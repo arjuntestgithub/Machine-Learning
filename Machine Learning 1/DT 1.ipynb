{
 "cells": [
  {
   "cell_type": "code",
   "execution_count": 11,
   "id": "1923a6dd",
   "metadata": {},
   "outputs": [],
   "source": [
    "data = '''+----+-------+-------+------------------+----------+\n",
    "| ID | Fever | Cough | Breathing issues | Infected |\n",
    "+----+-------+-------+------------------+----------+\n",
    "| 1 | NO | NO | NO | NO |\n",
    "+----+-------+-------+------------------+----------+\n",
    "| 2 | YES | YES | YES | YES |\n",
    "+----+-------+-------+------------------+----------+\n",
    "| 3 | YES | YES | NO | NO |\n",
    "+----+-------+-------+------------------+----------+\n",
    "| 4 | YES | NO | YES | YES |\n",
    "+----+-------+-------+------------------+----------+\n",
    "| 5 | YES | YES | YES | YES |\n",
    "+----+-------+-------+------------------+----------+\n",
    "| 6 | NO | YES | NO | NO |\n",
    "+----+-------+-------+------------------+----------+\n",
    "| 7 | YES | NO | YES | YES |\n",
    "+----+-------+-------+------------------+----------+\n",
    "| 8 | YES | NO | YES | YES |\n",
    "+----+-------+-------+------------------+----------+\n",
    "| 9 | NO | YES | YES | YES |\n",
    "+----+-------+-------+------------------+----------+\n",
    "| 10 | YES | YES | NO | YES |\n",
    "+----+-------+-------+------------------+----------+\n",
    "| 11 | NO | YES | NO | NO |\n",
    "+----+-------+-------+------------------+----------+\n",
    "| 12 | NO | YES | YES | YES |\n",
    "+----+-------+-------+------------------+----------+\n",
    "| 13 | NO | YES | YES | NO |\n",
    "+----+-------+-------+------------------+----------+\n",
    "| 14 | YES | YES | NO | NO |\n",
    "+----+-------+-------+------------------+----------+'''"
   ]
  },
  {
   "cell_type": "code",
   "execution_count": 12,
   "id": "9be53e86",
   "metadata": {},
   "outputs": [
    {
     "data": {
      "text/plain": [
       "'+----+-------+-------+------------------+----------+\\n| ID | Fever | Cough | Breathing issues | Infected |\\n+----+-------+-------+------------------+----------+\\n| 1 | NO | NO | NO | NO |\\n+----+-------+-------+------------------+----------+\\n| 2 | YES | YES | YES | YES |\\n+----+-------+-------+------------------+----------+\\n| 3 | YES | YES | NO | NO |\\n+----+-------+-------+------------------+----------+\\n| 4 | YES | NO | YES | YES |\\n+----+-------+-------+------------------+----------+\\n| 5 | YES | YES | YES | YES |\\n+----+-------+-------+------------------+----------+\\n| 6 | NO | YES | NO | NO |\\n+----+-------+-------+------------------+----------+\\n| 7 | YES | NO | YES | YES |\\n+----+-------+-------+------------------+----------+\\n| 8 | YES | NO | YES | YES |\\n+----+-------+-------+------------------+----------+\\n| 9 | NO | YES | YES | YES |\\n+----+-------+-------+------------------+----------+\\n| 10 | YES | YES | NO | YES |\\n+----+-------+-------+------------------+----------+\\n| 11 | NO | YES | NO | NO |\\n+----+-------+-------+------------------+----------+\\n| 12 | NO | YES | YES | YES |\\n+----+-------+-------+------------------+----------+\\n| 13 | NO | YES | YES | NO |\\n+----+-------+-------+------------------+----------+\\n| 14 | YES | YES | NO | NO |\\n+----+-------+-------+------------------+----------+'"
      ]
     },
     "execution_count": 12,
     "metadata": {},
     "output_type": "execute_result"
    }
   ],
   "source": [
    "data"
   ]
  },
  {
   "cell_type": "code",
   "execution_count": 13,
   "id": "e699c844",
   "metadata": {},
   "outputs": [],
   "source": [
    "data = data.replace('+','')"
   ]
  },
  {
   "cell_type": "code",
   "execution_count": 14,
   "id": "8ffd7364",
   "metadata": {},
   "outputs": [
    {
     "data": {
      "text/plain": [
       "'----------------------------------------------\\n| ID | Fever | Cough | Breathing issues | Infected |\\n----------------------------------------------\\n| 1 | NO | NO | NO | NO |\\n----------------------------------------------\\n| 2 | YES | YES | YES | YES |\\n----------------------------------------------\\n| 3 | YES | YES | NO | NO |\\n----------------------------------------------\\n| 4 | YES | NO | YES | YES |\\n----------------------------------------------\\n| 5 | YES | YES | YES | YES |\\n----------------------------------------------\\n| 6 | NO | YES | NO | NO |\\n----------------------------------------------\\n| 7 | YES | NO | YES | YES |\\n----------------------------------------------\\n| 8 | YES | NO | YES | YES |\\n----------------------------------------------\\n| 9 | NO | YES | YES | YES |\\n----------------------------------------------\\n| 10 | YES | YES | NO | YES |\\n----------------------------------------------\\n| 11 | NO | YES | NO | NO |\\n----------------------------------------------\\n| 12 | NO | YES | YES | YES |\\n----------------------------------------------\\n| 13 | NO | YES | YES | NO |\\n----------------------------------------------\\n| 14 | YES | YES | NO | NO |\\n----------------------------------------------'"
      ]
     },
     "execution_count": 14,
     "metadata": {},
     "output_type": "execute_result"
    }
   ],
   "source": [
    "data"
   ]
  },
  {
   "cell_type": "code",
   "execution_count": 15,
   "id": "9294a2a2",
   "metadata": {},
   "outputs": [],
   "source": [
    "data=data.replace('-','')"
   ]
  },
  {
   "cell_type": "code",
   "execution_count": 16,
   "id": "5175510b",
   "metadata": {},
   "outputs": [],
   "source": [
    "data=data.replace('|',',')"
   ]
  },
  {
   "cell_type": "code",
   "execution_count": 17,
   "id": "dff820dd",
   "metadata": {},
   "outputs": [
    {
     "data": {
      "text/plain": [
       "'\\n, ID , Fever , Cough , Breathing issues , Infected ,\\n\\n, 1 , NO , NO , NO , NO ,\\n\\n, 2 , YES , YES , YES , YES ,\\n\\n, 3 , YES , YES , NO , NO ,\\n\\n, 4 , YES , NO , YES , YES ,\\n\\n, 5 , YES , YES , YES , YES ,\\n\\n, 6 , NO , YES , NO , NO ,\\n\\n, 7 , YES , NO , YES , YES ,\\n\\n, 8 , YES , NO , YES , YES ,\\n\\n, 9 , NO , YES , YES , YES ,\\n\\n, 10 , YES , YES , NO , YES ,\\n\\n, 11 , NO , YES , NO , NO ,\\n\\n, 12 , NO , YES , YES , YES ,\\n\\n, 13 , NO , YES , YES , NO ,\\n\\n, 14 , YES , YES , NO , NO ,\\n'"
      ]
     },
     "execution_count": 17,
     "metadata": {},
     "output_type": "execute_result"
    }
   ],
   "source": [
    "data"
   ]
  },
  {
   "cell_type": "code",
   "execution_count": 18,
   "id": "fa1a8416",
   "metadata": {},
   "outputs": [
    {
     "name": "stdout",
     "output_type": "stream",
     "text": [
      "Arjun\n"
     ]
    }
   ],
   "source": [
    "with open('covid.csv','w') as f:\n",
    "    f.write(data)\n",
    "    \n",
    "print('Arjun')"
   ]
  },
  {
   "cell_type": "code",
   "execution_count": 19,
   "id": "c0674fe4",
   "metadata": {},
   "outputs": [],
   "source": [
    "import pandas as pd"
   ]
  },
  {
   "cell_type": "code",
   "execution_count": 20,
   "id": "bb099f75",
   "metadata": {},
   "outputs": [],
   "source": [
    "df = pd.read_csv('covid.csv')"
   ]
  },
  {
   "cell_type": "code",
   "execution_count": 21,
   "id": "ec9d5763",
   "metadata": {},
   "outputs": [
    {
     "data": {
      "text/html": [
       "<div>\n",
       "<style scoped>\n",
       "    .dataframe tbody tr th:only-of-type {\n",
       "        vertical-align: middle;\n",
       "    }\n",
       "\n",
       "    .dataframe tbody tr th {\n",
       "        vertical-align: top;\n",
       "    }\n",
       "\n",
       "    .dataframe thead th {\n",
       "        text-align: right;\n",
       "    }\n",
       "</style>\n",
       "<table border=\"1\" class=\"dataframe\">\n",
       "  <thead>\n",
       "    <tr style=\"text-align: right;\">\n",
       "      <th></th>\n",
       "      <th>Unnamed: 0</th>\n",
       "      <th>ID</th>\n",
       "      <th>Fever</th>\n",
       "      <th>Cough</th>\n",
       "      <th>Breathing issues</th>\n",
       "      <th>Infected</th>\n",
       "      <th>Unnamed: 6</th>\n",
       "    </tr>\n",
       "  </thead>\n",
       "  <tbody>\n",
       "    <tr>\n",
       "      <th>0</th>\n",
       "      <td>NaN</td>\n",
       "      <td>1</td>\n",
       "      <td>NO</td>\n",
       "      <td>NO</td>\n",
       "      <td>NO</td>\n",
       "      <td>NO</td>\n",
       "      <td>NaN</td>\n",
       "    </tr>\n",
       "    <tr>\n",
       "      <th>1</th>\n",
       "      <td>NaN</td>\n",
       "      <td>2</td>\n",
       "      <td>YES</td>\n",
       "      <td>YES</td>\n",
       "      <td>YES</td>\n",
       "      <td>YES</td>\n",
       "      <td>NaN</td>\n",
       "    </tr>\n",
       "    <tr>\n",
       "      <th>2</th>\n",
       "      <td>NaN</td>\n",
       "      <td>3</td>\n",
       "      <td>YES</td>\n",
       "      <td>YES</td>\n",
       "      <td>NO</td>\n",
       "      <td>NO</td>\n",
       "      <td>NaN</td>\n",
       "    </tr>\n",
       "    <tr>\n",
       "      <th>3</th>\n",
       "      <td>NaN</td>\n",
       "      <td>4</td>\n",
       "      <td>YES</td>\n",
       "      <td>NO</td>\n",
       "      <td>YES</td>\n",
       "      <td>YES</td>\n",
       "      <td>NaN</td>\n",
       "    </tr>\n",
       "    <tr>\n",
       "      <th>4</th>\n",
       "      <td>NaN</td>\n",
       "      <td>5</td>\n",
       "      <td>YES</td>\n",
       "      <td>YES</td>\n",
       "      <td>YES</td>\n",
       "      <td>YES</td>\n",
       "      <td>NaN</td>\n",
       "    </tr>\n",
       "    <tr>\n",
       "      <th>5</th>\n",
       "      <td>NaN</td>\n",
       "      <td>6</td>\n",
       "      <td>NO</td>\n",
       "      <td>YES</td>\n",
       "      <td>NO</td>\n",
       "      <td>NO</td>\n",
       "      <td>NaN</td>\n",
       "    </tr>\n",
       "    <tr>\n",
       "      <th>6</th>\n",
       "      <td>NaN</td>\n",
       "      <td>7</td>\n",
       "      <td>YES</td>\n",
       "      <td>NO</td>\n",
       "      <td>YES</td>\n",
       "      <td>YES</td>\n",
       "      <td>NaN</td>\n",
       "    </tr>\n",
       "    <tr>\n",
       "      <th>7</th>\n",
       "      <td>NaN</td>\n",
       "      <td>8</td>\n",
       "      <td>YES</td>\n",
       "      <td>NO</td>\n",
       "      <td>YES</td>\n",
       "      <td>YES</td>\n",
       "      <td>NaN</td>\n",
       "    </tr>\n",
       "    <tr>\n",
       "      <th>8</th>\n",
       "      <td>NaN</td>\n",
       "      <td>9</td>\n",
       "      <td>NO</td>\n",
       "      <td>YES</td>\n",
       "      <td>YES</td>\n",
       "      <td>YES</td>\n",
       "      <td>NaN</td>\n",
       "    </tr>\n",
       "    <tr>\n",
       "      <th>9</th>\n",
       "      <td>NaN</td>\n",
       "      <td>10</td>\n",
       "      <td>YES</td>\n",
       "      <td>YES</td>\n",
       "      <td>NO</td>\n",
       "      <td>YES</td>\n",
       "      <td>NaN</td>\n",
       "    </tr>\n",
       "    <tr>\n",
       "      <th>10</th>\n",
       "      <td>NaN</td>\n",
       "      <td>11</td>\n",
       "      <td>NO</td>\n",
       "      <td>YES</td>\n",
       "      <td>NO</td>\n",
       "      <td>NO</td>\n",
       "      <td>NaN</td>\n",
       "    </tr>\n",
       "    <tr>\n",
       "      <th>11</th>\n",
       "      <td>NaN</td>\n",
       "      <td>12</td>\n",
       "      <td>NO</td>\n",
       "      <td>YES</td>\n",
       "      <td>YES</td>\n",
       "      <td>YES</td>\n",
       "      <td>NaN</td>\n",
       "    </tr>\n",
       "    <tr>\n",
       "      <th>12</th>\n",
       "      <td>NaN</td>\n",
       "      <td>13</td>\n",
       "      <td>NO</td>\n",
       "      <td>YES</td>\n",
       "      <td>YES</td>\n",
       "      <td>NO</td>\n",
       "      <td>NaN</td>\n",
       "    </tr>\n",
       "    <tr>\n",
       "      <th>13</th>\n",
       "      <td>NaN</td>\n",
       "      <td>14</td>\n",
       "      <td>YES</td>\n",
       "      <td>YES</td>\n",
       "      <td>NO</td>\n",
       "      <td>NO</td>\n",
       "      <td>NaN</td>\n",
       "    </tr>\n",
       "  </tbody>\n",
       "</table>\n",
       "</div>"
      ],
      "text/plain": [
       "    Unnamed: 0   ID   Fever   Cough   Breathing issues   Infected   Unnamed: 6\n",
       "0          NaN     1     NO      NO                 NO         NO          NaN\n",
       "1          NaN     2    YES     YES                YES        YES          NaN\n",
       "2          NaN     3    YES     YES                 NO         NO          NaN\n",
       "3          NaN     4    YES      NO                YES        YES          NaN\n",
       "4          NaN     5    YES     YES                YES        YES          NaN\n",
       "5          NaN     6     NO     YES                 NO         NO          NaN\n",
       "6          NaN     7    YES      NO                YES        YES          NaN\n",
       "7          NaN     8    YES      NO                YES        YES          NaN\n",
       "8          NaN     9     NO     YES                YES        YES          NaN\n",
       "9          NaN    10    YES     YES                 NO        YES          NaN\n",
       "10         NaN    11     NO     YES                 NO         NO          NaN\n",
       "11         NaN    12     NO     YES                YES        YES          NaN\n",
       "12         NaN    13     NO     YES                YES         NO          NaN\n",
       "13         NaN    14    YES     YES                 NO         NO          NaN"
      ]
     },
     "execution_count": 21,
     "metadata": {},
     "output_type": "execute_result"
    }
   ],
   "source": [
    "df"
   ]
  },
  {
   "cell_type": "code",
   "execution_count": 22,
   "id": "2513fcda",
   "metadata": {},
   "outputs": [],
   "source": [
    "df.drop(['Unnamed: 0','Unnamed: 6'],axis=1,inplace=True)"
   ]
  },
  {
   "cell_type": "code",
   "execution_count": 23,
   "id": "6d9c64b3",
   "metadata": {},
   "outputs": [
    {
     "data": {
      "text/html": [
       "<div>\n",
       "<style scoped>\n",
       "    .dataframe tbody tr th:only-of-type {\n",
       "        vertical-align: middle;\n",
       "    }\n",
       "\n",
       "    .dataframe tbody tr th {\n",
       "        vertical-align: top;\n",
       "    }\n",
       "\n",
       "    .dataframe thead th {\n",
       "        text-align: right;\n",
       "    }\n",
       "</style>\n",
       "<table border=\"1\" class=\"dataframe\">\n",
       "  <thead>\n",
       "    <tr style=\"text-align: right;\">\n",
       "      <th></th>\n",
       "      <th>ID</th>\n",
       "      <th>Fever</th>\n",
       "      <th>Cough</th>\n",
       "      <th>Breathing issues</th>\n",
       "      <th>Infected</th>\n",
       "    </tr>\n",
       "  </thead>\n",
       "  <tbody>\n",
       "    <tr>\n",
       "      <th>0</th>\n",
       "      <td>1</td>\n",
       "      <td>NO</td>\n",
       "      <td>NO</td>\n",
       "      <td>NO</td>\n",
       "      <td>NO</td>\n",
       "    </tr>\n",
       "    <tr>\n",
       "      <th>1</th>\n",
       "      <td>2</td>\n",
       "      <td>YES</td>\n",
       "      <td>YES</td>\n",
       "      <td>YES</td>\n",
       "      <td>YES</td>\n",
       "    </tr>\n",
       "    <tr>\n",
       "      <th>2</th>\n",
       "      <td>3</td>\n",
       "      <td>YES</td>\n",
       "      <td>YES</td>\n",
       "      <td>NO</td>\n",
       "      <td>NO</td>\n",
       "    </tr>\n",
       "    <tr>\n",
       "      <th>3</th>\n",
       "      <td>4</td>\n",
       "      <td>YES</td>\n",
       "      <td>NO</td>\n",
       "      <td>YES</td>\n",
       "      <td>YES</td>\n",
       "    </tr>\n",
       "    <tr>\n",
       "      <th>4</th>\n",
       "      <td>5</td>\n",
       "      <td>YES</td>\n",
       "      <td>YES</td>\n",
       "      <td>YES</td>\n",
       "      <td>YES</td>\n",
       "    </tr>\n",
       "    <tr>\n",
       "      <th>5</th>\n",
       "      <td>6</td>\n",
       "      <td>NO</td>\n",
       "      <td>YES</td>\n",
       "      <td>NO</td>\n",
       "      <td>NO</td>\n",
       "    </tr>\n",
       "    <tr>\n",
       "      <th>6</th>\n",
       "      <td>7</td>\n",
       "      <td>YES</td>\n",
       "      <td>NO</td>\n",
       "      <td>YES</td>\n",
       "      <td>YES</td>\n",
       "    </tr>\n",
       "    <tr>\n",
       "      <th>7</th>\n",
       "      <td>8</td>\n",
       "      <td>YES</td>\n",
       "      <td>NO</td>\n",
       "      <td>YES</td>\n",
       "      <td>YES</td>\n",
       "    </tr>\n",
       "    <tr>\n",
       "      <th>8</th>\n",
       "      <td>9</td>\n",
       "      <td>NO</td>\n",
       "      <td>YES</td>\n",
       "      <td>YES</td>\n",
       "      <td>YES</td>\n",
       "    </tr>\n",
       "    <tr>\n",
       "      <th>9</th>\n",
       "      <td>10</td>\n",
       "      <td>YES</td>\n",
       "      <td>YES</td>\n",
       "      <td>NO</td>\n",
       "      <td>YES</td>\n",
       "    </tr>\n",
       "    <tr>\n",
       "      <th>10</th>\n",
       "      <td>11</td>\n",
       "      <td>NO</td>\n",
       "      <td>YES</td>\n",
       "      <td>NO</td>\n",
       "      <td>NO</td>\n",
       "    </tr>\n",
       "    <tr>\n",
       "      <th>11</th>\n",
       "      <td>12</td>\n",
       "      <td>NO</td>\n",
       "      <td>YES</td>\n",
       "      <td>YES</td>\n",
       "      <td>YES</td>\n",
       "    </tr>\n",
       "    <tr>\n",
       "      <th>12</th>\n",
       "      <td>13</td>\n",
       "      <td>NO</td>\n",
       "      <td>YES</td>\n",
       "      <td>YES</td>\n",
       "      <td>NO</td>\n",
       "    </tr>\n",
       "    <tr>\n",
       "      <th>13</th>\n",
       "      <td>14</td>\n",
       "      <td>YES</td>\n",
       "      <td>YES</td>\n",
       "      <td>NO</td>\n",
       "      <td>NO</td>\n",
       "    </tr>\n",
       "  </tbody>\n",
       "</table>\n",
       "</div>"
      ],
      "text/plain": [
       "     ID   Fever   Cough   Breathing issues   Infected \n",
       "0      1     NO      NO                 NO         NO \n",
       "1      2    YES     YES                YES        YES \n",
       "2      3    YES     YES                 NO         NO \n",
       "3      4    YES      NO                YES        YES \n",
       "4      5    YES     YES                YES        YES \n",
       "5      6     NO     YES                 NO         NO \n",
       "6      7    YES      NO                YES        YES \n",
       "7      8    YES      NO                YES        YES \n",
       "8      9     NO     YES                YES        YES \n",
       "9     10    YES     YES                 NO        YES \n",
       "10    11     NO     YES                 NO         NO \n",
       "11    12     NO     YES                YES        YES \n",
       "12    13     NO     YES                YES         NO \n",
       "13    14    YES     YES                 NO         NO "
      ]
     },
     "execution_count": 23,
     "metadata": {},
     "output_type": "execute_result"
    }
   ],
   "source": [
    "df"
   ]
  },
  {
   "cell_type": "code",
   "execution_count": 24,
   "id": "debc5811",
   "metadata": {},
   "outputs": [],
   "source": [
    "#  convert String data to csv"
   ]
  },
  {
   "cell_type": "code",
   "execution_count": 29,
   "id": "42ab4be7",
   "metadata": {},
   "outputs": [],
   "source": [
    "import csv"
   ]
  },
  {
   "cell_type": "code",
   "execution_count": 30,
   "id": "36e905df",
   "metadata": {},
   "outputs": [
    {
     "data": {
      "text/plain": [
       "'\\n, ID , Fever , Cough , Breathing issues , Infected ,\\n\\n, 1 , NO , NO , NO , NO ,\\n\\n, 2 , YES , YES , YES , YES ,\\n\\n, 3 , YES , YES , NO , NO ,\\n\\n, 4 , YES , NO , YES , YES ,\\n\\n, 5 , YES , YES , YES , YES ,\\n\\n, 6 , NO , YES , NO , NO ,\\n\\n, 7 , YES , NO , YES , YES ,\\n\\n, 8 , YES , NO , YES , YES ,\\n\\n, 9 , NO , YES , YES , YES ,\\n\\n, 10 , YES , YES , NO , YES ,\\n\\n, 11 , NO , YES , NO , NO ,\\n\\n, 12 , NO , YES , YES , YES ,\\n\\n, 13 , NO , YES , YES , NO ,\\n\\n, 14 , YES , YES , NO , NO ,\\n'"
      ]
     },
     "execution_count": 30,
     "metadata": {},
     "output_type": "execute_result"
    }
   ],
   "source": [
    "csv.StringIO(data)\n",
    "data"
   ]
  },
  {
   "cell_type": "code",
   "execution_count": 31,
   "id": "c83db76c",
   "metadata": {},
   "outputs": [
    {
     "data": {
      "text/html": [
       "<div>\n",
       "<style scoped>\n",
       "    .dataframe tbody tr th:only-of-type {\n",
       "        vertical-align: middle;\n",
       "    }\n",
       "\n",
       "    .dataframe tbody tr th {\n",
       "        vertical-align: top;\n",
       "    }\n",
       "\n",
       "    .dataframe thead th {\n",
       "        text-align: right;\n",
       "    }\n",
       "</style>\n",
       "<table border=\"1\" class=\"dataframe\">\n",
       "  <thead>\n",
       "    <tr style=\"text-align: right;\">\n",
       "      <th></th>\n",
       "      <th>Unnamed: 0</th>\n",
       "      <th>ID</th>\n",
       "      <th>Fever</th>\n",
       "      <th>Cough</th>\n",
       "      <th>Breathing issues</th>\n",
       "      <th>Infected</th>\n",
       "      <th>Unnamed: 6</th>\n",
       "    </tr>\n",
       "  </thead>\n",
       "  <tbody>\n",
       "    <tr>\n",
       "      <th>0</th>\n",
       "      <td>NaN</td>\n",
       "      <td>1</td>\n",
       "      <td>NO</td>\n",
       "      <td>NO</td>\n",
       "      <td>NO</td>\n",
       "      <td>NO</td>\n",
       "      <td>NaN</td>\n",
       "    </tr>\n",
       "    <tr>\n",
       "      <th>1</th>\n",
       "      <td>NaN</td>\n",
       "      <td>2</td>\n",
       "      <td>YES</td>\n",
       "      <td>YES</td>\n",
       "      <td>YES</td>\n",
       "      <td>YES</td>\n",
       "      <td>NaN</td>\n",
       "    </tr>\n",
       "    <tr>\n",
       "      <th>2</th>\n",
       "      <td>NaN</td>\n",
       "      <td>3</td>\n",
       "      <td>YES</td>\n",
       "      <td>YES</td>\n",
       "      <td>NO</td>\n",
       "      <td>NO</td>\n",
       "      <td>NaN</td>\n",
       "    </tr>\n",
       "    <tr>\n",
       "      <th>3</th>\n",
       "      <td>NaN</td>\n",
       "      <td>4</td>\n",
       "      <td>YES</td>\n",
       "      <td>NO</td>\n",
       "      <td>YES</td>\n",
       "      <td>YES</td>\n",
       "      <td>NaN</td>\n",
       "    </tr>\n",
       "    <tr>\n",
       "      <th>4</th>\n",
       "      <td>NaN</td>\n",
       "      <td>5</td>\n",
       "      <td>YES</td>\n",
       "      <td>YES</td>\n",
       "      <td>YES</td>\n",
       "      <td>YES</td>\n",
       "      <td>NaN</td>\n",
       "    </tr>\n",
       "    <tr>\n",
       "      <th>5</th>\n",
       "      <td>NaN</td>\n",
       "      <td>6</td>\n",
       "      <td>NO</td>\n",
       "      <td>YES</td>\n",
       "      <td>NO</td>\n",
       "      <td>NO</td>\n",
       "      <td>NaN</td>\n",
       "    </tr>\n",
       "    <tr>\n",
       "      <th>6</th>\n",
       "      <td>NaN</td>\n",
       "      <td>7</td>\n",
       "      <td>YES</td>\n",
       "      <td>NO</td>\n",
       "      <td>YES</td>\n",
       "      <td>YES</td>\n",
       "      <td>NaN</td>\n",
       "    </tr>\n",
       "    <tr>\n",
       "      <th>7</th>\n",
       "      <td>NaN</td>\n",
       "      <td>8</td>\n",
       "      <td>YES</td>\n",
       "      <td>NO</td>\n",
       "      <td>YES</td>\n",
       "      <td>YES</td>\n",
       "      <td>NaN</td>\n",
       "    </tr>\n",
       "    <tr>\n",
       "      <th>8</th>\n",
       "      <td>NaN</td>\n",
       "      <td>9</td>\n",
       "      <td>NO</td>\n",
       "      <td>YES</td>\n",
       "      <td>YES</td>\n",
       "      <td>YES</td>\n",
       "      <td>NaN</td>\n",
       "    </tr>\n",
       "    <tr>\n",
       "      <th>9</th>\n",
       "      <td>NaN</td>\n",
       "      <td>10</td>\n",
       "      <td>YES</td>\n",
       "      <td>YES</td>\n",
       "      <td>NO</td>\n",
       "      <td>YES</td>\n",
       "      <td>NaN</td>\n",
       "    </tr>\n",
       "    <tr>\n",
       "      <th>10</th>\n",
       "      <td>NaN</td>\n",
       "      <td>11</td>\n",
       "      <td>NO</td>\n",
       "      <td>YES</td>\n",
       "      <td>NO</td>\n",
       "      <td>NO</td>\n",
       "      <td>NaN</td>\n",
       "    </tr>\n",
       "    <tr>\n",
       "      <th>11</th>\n",
       "      <td>NaN</td>\n",
       "      <td>12</td>\n",
       "      <td>NO</td>\n",
       "      <td>YES</td>\n",
       "      <td>YES</td>\n",
       "      <td>YES</td>\n",
       "      <td>NaN</td>\n",
       "    </tr>\n",
       "    <tr>\n",
       "      <th>12</th>\n",
       "      <td>NaN</td>\n",
       "      <td>13</td>\n",
       "      <td>NO</td>\n",
       "      <td>YES</td>\n",
       "      <td>YES</td>\n",
       "      <td>NO</td>\n",
       "      <td>NaN</td>\n",
       "    </tr>\n",
       "    <tr>\n",
       "      <th>13</th>\n",
       "      <td>NaN</td>\n",
       "      <td>14</td>\n",
       "      <td>YES</td>\n",
       "      <td>YES</td>\n",
       "      <td>NO</td>\n",
       "      <td>NO</td>\n",
       "      <td>NaN</td>\n",
       "    </tr>\n",
       "  </tbody>\n",
       "</table>\n",
       "</div>"
      ],
      "text/plain": [
       "    Unnamed: 0   ID   Fever   Cough   Breathing issues   Infected   Unnamed: 6\n",
       "0          NaN     1     NO      NO                 NO         NO          NaN\n",
       "1          NaN     2    YES     YES                YES        YES          NaN\n",
       "2          NaN     3    YES     YES                 NO         NO          NaN\n",
       "3          NaN     4    YES      NO                YES        YES          NaN\n",
       "4          NaN     5    YES     YES                YES        YES          NaN\n",
       "5          NaN     6     NO     YES                 NO         NO          NaN\n",
       "6          NaN     7    YES      NO                YES        YES          NaN\n",
       "7          NaN     8    YES      NO                YES        YES          NaN\n",
       "8          NaN     9     NO     YES                YES        YES          NaN\n",
       "9          NaN    10    YES     YES                 NO        YES          NaN\n",
       "10         NaN    11     NO     YES                 NO         NO          NaN\n",
       "11         NaN    12     NO     YES                YES        YES          NaN\n",
       "12         NaN    13     NO     YES                YES         NO          NaN\n",
       "13         NaN    14    YES     YES                 NO         NO          NaN"
      ]
     },
     "execution_count": 31,
     "metadata": {},
     "output_type": "execute_result"
    }
   ],
   "source": [
    "pd.read_csv(csv.StringIO(data))"
   ]
  },
  {
   "cell_type": "code",
   "execution_count": 32,
   "id": "5073cda3",
   "metadata": {},
   "outputs": [
    {
     "data": {
      "text/html": [
       "<div>\n",
       "<style scoped>\n",
       "    .dataframe tbody tr th:only-of-type {\n",
       "        vertical-align: middle;\n",
       "    }\n",
       "\n",
       "    .dataframe tbody tr th {\n",
       "        vertical-align: top;\n",
       "    }\n",
       "\n",
       "    .dataframe thead th {\n",
       "        text-align: right;\n",
       "    }\n",
       "</style>\n",
       "<table border=\"1\" class=\"dataframe\">\n",
       "  <thead>\n",
       "    <tr style=\"text-align: right;\">\n",
       "      <th></th>\n",
       "      <th>ID</th>\n",
       "      <th>Fever</th>\n",
       "      <th>Cough</th>\n",
       "      <th>Breathing issues</th>\n",
       "      <th>Infected</th>\n",
       "    </tr>\n",
       "  </thead>\n",
       "  <tbody>\n",
       "    <tr>\n",
       "      <th>0</th>\n",
       "      <td>1</td>\n",
       "      <td>NO</td>\n",
       "      <td>NO</td>\n",
       "      <td>NO</td>\n",
       "      <td>NO</td>\n",
       "    </tr>\n",
       "    <tr>\n",
       "      <th>1</th>\n",
       "      <td>2</td>\n",
       "      <td>YES</td>\n",
       "      <td>YES</td>\n",
       "      <td>YES</td>\n",
       "      <td>YES</td>\n",
       "    </tr>\n",
       "    <tr>\n",
       "      <th>2</th>\n",
       "      <td>3</td>\n",
       "      <td>YES</td>\n",
       "      <td>YES</td>\n",
       "      <td>NO</td>\n",
       "      <td>NO</td>\n",
       "    </tr>\n",
       "    <tr>\n",
       "      <th>3</th>\n",
       "      <td>4</td>\n",
       "      <td>YES</td>\n",
       "      <td>NO</td>\n",
       "      <td>YES</td>\n",
       "      <td>YES</td>\n",
       "    </tr>\n",
       "    <tr>\n",
       "      <th>4</th>\n",
       "      <td>5</td>\n",
       "      <td>YES</td>\n",
       "      <td>YES</td>\n",
       "      <td>YES</td>\n",
       "      <td>YES</td>\n",
       "    </tr>\n",
       "    <tr>\n",
       "      <th>5</th>\n",
       "      <td>6</td>\n",
       "      <td>NO</td>\n",
       "      <td>YES</td>\n",
       "      <td>NO</td>\n",
       "      <td>NO</td>\n",
       "    </tr>\n",
       "    <tr>\n",
       "      <th>6</th>\n",
       "      <td>7</td>\n",
       "      <td>YES</td>\n",
       "      <td>NO</td>\n",
       "      <td>YES</td>\n",
       "      <td>YES</td>\n",
       "    </tr>\n",
       "    <tr>\n",
       "      <th>7</th>\n",
       "      <td>8</td>\n",
       "      <td>YES</td>\n",
       "      <td>NO</td>\n",
       "      <td>YES</td>\n",
       "      <td>YES</td>\n",
       "    </tr>\n",
       "    <tr>\n",
       "      <th>8</th>\n",
       "      <td>9</td>\n",
       "      <td>NO</td>\n",
       "      <td>YES</td>\n",
       "      <td>YES</td>\n",
       "      <td>YES</td>\n",
       "    </tr>\n",
       "    <tr>\n",
       "      <th>9</th>\n",
       "      <td>10</td>\n",
       "      <td>YES</td>\n",
       "      <td>YES</td>\n",
       "      <td>NO</td>\n",
       "      <td>YES</td>\n",
       "    </tr>\n",
       "    <tr>\n",
       "      <th>10</th>\n",
       "      <td>11</td>\n",
       "      <td>NO</td>\n",
       "      <td>YES</td>\n",
       "      <td>NO</td>\n",
       "      <td>NO</td>\n",
       "    </tr>\n",
       "    <tr>\n",
       "      <th>11</th>\n",
       "      <td>12</td>\n",
       "      <td>NO</td>\n",
       "      <td>YES</td>\n",
       "      <td>YES</td>\n",
       "      <td>YES</td>\n",
       "    </tr>\n",
       "    <tr>\n",
       "      <th>12</th>\n",
       "      <td>13</td>\n",
       "      <td>NO</td>\n",
       "      <td>YES</td>\n",
       "      <td>YES</td>\n",
       "      <td>NO</td>\n",
       "    </tr>\n",
       "    <tr>\n",
       "      <th>13</th>\n",
       "      <td>14</td>\n",
       "      <td>YES</td>\n",
       "      <td>YES</td>\n",
       "      <td>NO</td>\n",
       "      <td>NO</td>\n",
       "    </tr>\n",
       "  </tbody>\n",
       "</table>\n",
       "</div>"
      ],
      "text/plain": [
       "     ID   Fever   Cough   Breathing issues   Infected \n",
       "0      1     NO      NO                 NO         NO \n",
       "1      2    YES     YES                YES        YES \n",
       "2      3    YES     YES                 NO         NO \n",
       "3      4    YES      NO                YES        YES \n",
       "4      5    YES     YES                YES        YES \n",
       "5      6     NO     YES                 NO         NO \n",
       "6      7    YES      NO                YES        YES \n",
       "7      8    YES      NO                YES        YES \n",
       "8      9     NO     YES                YES        YES \n",
       "9     10    YES     YES                 NO        YES \n",
       "10    11     NO     YES                 NO         NO \n",
       "11    12     NO     YES                YES        YES \n",
       "12    13     NO     YES                YES         NO \n",
       "13    14    YES     YES                 NO         NO "
      ]
     },
     "execution_count": 32,
     "metadata": {},
     "output_type": "execute_result"
    }
   ],
   "source": [
    "df"
   ]
  },
  {
   "cell_type": "code",
   "execution_count": 48,
   "id": "ce881be6",
   "metadata": {},
   "outputs": [
    {
     "ename": "AttributeError",
     "evalue": "'Index' object has no attribute 'strip'",
     "output_type": "error",
     "traceback": [
      "\u001b[1;31m---------------------------------------------------------------------------\u001b[0m",
      "\u001b[1;31mAttributeError\u001b[0m                            Traceback (most recent call last)",
      "Cell \u001b[1;32mIn[48], line 1\u001b[0m\n\u001b[1;32m----> 1\u001b[0m \u001b[43mdf\u001b[49m\u001b[38;5;241;43m.\u001b[39;49m\u001b[43mcolumns\u001b[49m\u001b[38;5;241;43m.\u001b[39;49m\u001b[43mstrip\u001b[49m()\n",
      "\u001b[1;31mAttributeError\u001b[0m: 'Index' object has no attribute 'strip'"
     ]
    }
   ],
   "source": [
    "df.columns.strip()"
   ]
  },
  {
   "cell_type": "code",
   "execution_count": 50,
   "id": "83986216",
   "metadata": {},
   "outputs": [
    {
     "data": {
      "text/plain": [
       "Index(['ID', 'Fever', 'Cough', 'Breathing issues', 'Infected'], dtype='object')"
      ]
     },
     "execution_count": 50,
     "metadata": {},
     "output_type": "execute_result"
    }
   ],
   "source": [
    "df.columns=[i.strip()  for i in df.columns]\n",
    "df.columns"
   ]
  },
  {
   "cell_type": "code",
   "execution_count": 51,
   "id": "b0ada2a0",
   "metadata": {},
   "outputs": [
    {
     "data": {
      "text/html": [
       "<div>\n",
       "<style scoped>\n",
       "    .dataframe tbody tr th:only-of-type {\n",
       "        vertical-align: middle;\n",
       "    }\n",
       "\n",
       "    .dataframe tbody tr th {\n",
       "        vertical-align: top;\n",
       "    }\n",
       "\n",
       "    .dataframe thead th {\n",
       "        text-align: right;\n",
       "    }\n",
       "</style>\n",
       "<table border=\"1\" class=\"dataframe\">\n",
       "  <thead>\n",
       "    <tr style=\"text-align: right;\">\n",
       "      <th></th>\n",
       "      <th>ID</th>\n",
       "      <th>Fever</th>\n",
       "      <th>Cough</th>\n",
       "      <th>Breathing issues</th>\n",
       "      <th>Infected</th>\n",
       "    </tr>\n",
       "  </thead>\n",
       "  <tbody>\n",
       "    <tr>\n",
       "      <th>0</th>\n",
       "      <td>1</td>\n",
       "      <td>NO</td>\n",
       "      <td>NO</td>\n",
       "      <td>NO</td>\n",
       "      <td>NO</td>\n",
       "    </tr>\n",
       "    <tr>\n",
       "      <th>1</th>\n",
       "      <td>2</td>\n",
       "      <td>YES</td>\n",
       "      <td>YES</td>\n",
       "      <td>YES</td>\n",
       "      <td>YES</td>\n",
       "    </tr>\n",
       "    <tr>\n",
       "      <th>2</th>\n",
       "      <td>3</td>\n",
       "      <td>YES</td>\n",
       "      <td>YES</td>\n",
       "      <td>NO</td>\n",
       "      <td>NO</td>\n",
       "    </tr>\n",
       "    <tr>\n",
       "      <th>3</th>\n",
       "      <td>4</td>\n",
       "      <td>YES</td>\n",
       "      <td>NO</td>\n",
       "      <td>YES</td>\n",
       "      <td>YES</td>\n",
       "    </tr>\n",
       "    <tr>\n",
       "      <th>4</th>\n",
       "      <td>5</td>\n",
       "      <td>YES</td>\n",
       "      <td>YES</td>\n",
       "      <td>YES</td>\n",
       "      <td>YES</td>\n",
       "    </tr>\n",
       "    <tr>\n",
       "      <th>5</th>\n",
       "      <td>6</td>\n",
       "      <td>NO</td>\n",
       "      <td>YES</td>\n",
       "      <td>NO</td>\n",
       "      <td>NO</td>\n",
       "    </tr>\n",
       "    <tr>\n",
       "      <th>6</th>\n",
       "      <td>7</td>\n",
       "      <td>YES</td>\n",
       "      <td>NO</td>\n",
       "      <td>YES</td>\n",
       "      <td>YES</td>\n",
       "    </tr>\n",
       "    <tr>\n",
       "      <th>7</th>\n",
       "      <td>8</td>\n",
       "      <td>YES</td>\n",
       "      <td>NO</td>\n",
       "      <td>YES</td>\n",
       "      <td>YES</td>\n",
       "    </tr>\n",
       "    <tr>\n",
       "      <th>8</th>\n",
       "      <td>9</td>\n",
       "      <td>NO</td>\n",
       "      <td>YES</td>\n",
       "      <td>YES</td>\n",
       "      <td>YES</td>\n",
       "    </tr>\n",
       "    <tr>\n",
       "      <th>9</th>\n",
       "      <td>10</td>\n",
       "      <td>YES</td>\n",
       "      <td>YES</td>\n",
       "      <td>NO</td>\n",
       "      <td>YES</td>\n",
       "    </tr>\n",
       "    <tr>\n",
       "      <th>10</th>\n",
       "      <td>11</td>\n",
       "      <td>NO</td>\n",
       "      <td>YES</td>\n",
       "      <td>NO</td>\n",
       "      <td>NO</td>\n",
       "    </tr>\n",
       "    <tr>\n",
       "      <th>11</th>\n",
       "      <td>12</td>\n",
       "      <td>NO</td>\n",
       "      <td>YES</td>\n",
       "      <td>YES</td>\n",
       "      <td>YES</td>\n",
       "    </tr>\n",
       "    <tr>\n",
       "      <th>12</th>\n",
       "      <td>13</td>\n",
       "      <td>NO</td>\n",
       "      <td>YES</td>\n",
       "      <td>YES</td>\n",
       "      <td>NO</td>\n",
       "    </tr>\n",
       "    <tr>\n",
       "      <th>13</th>\n",
       "      <td>14</td>\n",
       "      <td>YES</td>\n",
       "      <td>YES</td>\n",
       "      <td>NO</td>\n",
       "      <td>NO</td>\n",
       "    </tr>\n",
       "  </tbody>\n",
       "</table>\n",
       "</div>"
      ],
      "text/plain": [
       "    ID  Fever  Cough Breathing issues Infected\n",
       "0    1    NO     NO               NO       NO \n",
       "1    2   YES    YES              YES      YES \n",
       "2    3   YES    YES               NO       NO \n",
       "3    4   YES     NO              YES      YES \n",
       "4    5   YES    YES              YES      YES \n",
       "5    6    NO    YES               NO       NO \n",
       "6    7   YES     NO              YES      YES \n",
       "7    8   YES     NO              YES      YES \n",
       "8    9    NO    YES              YES      YES \n",
       "9   10   YES    YES               NO      YES \n",
       "10  11    NO    YES               NO       NO \n",
       "11  12    NO    YES              YES      YES \n",
       "12  13    NO    YES              YES       NO \n",
       "13  14   YES    YES               NO       NO "
      ]
     },
     "execution_count": 51,
     "metadata": {},
     "output_type": "execute_result"
    }
   ],
   "source": [
    "df"
   ]
  },
  {
   "cell_type": "code",
   "execution_count": 52,
   "id": "0a1eef48",
   "metadata": {},
   "outputs": [
    {
     "data": {
      "text/plain": [
       "0       NO \n",
       "1      YES \n",
       "2       NO \n",
       "3      YES \n",
       "4      YES \n",
       "5       NO \n",
       "6      YES \n",
       "7      YES \n",
       "8      YES \n",
       "9      YES \n",
       "10      NO \n",
       "11     YES \n",
       "12      NO \n",
       "13      NO \n",
       "Name: Infected, dtype: object"
      ]
     },
     "execution_count": 52,
     "metadata": {},
     "output_type": "execute_result"
    }
   ],
   "source": [
    "df['Infected']"
   ]
  },
  {
   "cell_type": "code",
   "execution_count": 53,
   "id": "c48b6f7d",
   "metadata": {},
   "outputs": [
    {
     "data": {
      "text/plain": [
       " YES     8\n",
       " NO      6\n",
       "Name: Infected, dtype: int64"
      ]
     },
     "execution_count": 53,
     "metadata": {},
     "output_type": "execute_result"
    }
   ],
   "source": [
    "df['Infected'].value_counts()"
   ]
  },
  {
   "cell_type": "code",
   "execution_count": 54,
   "id": "2dbfd6e7",
   "metadata": {},
   "outputs": [
    {
     "data": {
      "text/plain": [
       " YES     8\n",
       " NO      6\n",
       "Name: Fever, dtype: int64"
      ]
     },
     "execution_count": 54,
     "metadata": {},
     "output_type": "execute_result"
    }
   ],
   "source": [
    "df['Fever'].value_counts()"
   ]
  },
  {
   "cell_type": "code",
   "execution_count": 55,
   "id": "0f0daefc",
   "metadata": {},
   "outputs": [
    {
     "data": {
      "text/plain": [
       " YES     10\n",
       " NO       4\n",
       "Name: Cough, dtype: int64"
      ]
     },
     "execution_count": 55,
     "metadata": {},
     "output_type": "execute_result"
    }
   ],
   "source": [
    "df['Cough'].value_counts()"
   ]
  },
  {
   "cell_type": "code",
   "execution_count": 56,
   "id": "416c7fb4",
   "metadata": {},
   "outputs": [
    {
     "data": {
      "text/plain": [
       " YES     8\n",
       " NO      6\n",
       "Name: Breathing issues, dtype: int64"
      ]
     },
     "execution_count": 56,
     "metadata": {},
     "output_type": "execute_result"
    }
   ],
   "source": [
    "df['Breathing issues'].value_counts()"
   ]
  },
  {
   "cell_type": "markdown",
   "id": "6a21f5b4",
   "metadata": {},
   "source": [
    "# Entropy "
   ]
  },
  {
   "cell_type": "markdown",
   "id": "95008269",
   "metadata": {},
   "source": [
    "#Entropy (s) = -Epi * log2(pi)"
   ]
  },
  {
   "cell_type": "code",
   "execution_count": 64,
   "id": "c334b6af",
   "metadata": {},
   "outputs": [],
   "source": [
    "# Entropy(S) = -8/14 * log2(8/14) - 6/14 *log2(6/14)\n",
    "\n",
    "# Entropy Of Traget Columns. it is represent by S\n",
    "# Entropy of (Yes) = -((8/14) * log2 (8/14))\n",
    "# Entropy of (No) = -((6/14) * log2 (6/14))\n",
    "# oveal all Entropy\n",
    "# Entropy(S) = -8/14 * log2(8/14) - 6/14 *log2(6/14)\n"
   ]
  },
  {
   "cell_type": "code",
   "execution_count": 63,
   "id": "2124d56e",
   "metadata": {},
   "outputs": [
    {
     "data": {
      "text/plain": [
       "0.99"
      ]
     },
     "execution_count": 63,
     "metadata": {},
     "output_type": "execute_result"
    }
   ],
   "source": [
    "0.99"
   ]
  },
  {
   "cell_type": "markdown",
   "id": "588d7a7c",
   "metadata": {},
   "source": [
    "# Informatio Gain"
   ]
  },
  {
   "cell_type": "markdown",
   "id": "e05b7d74",
   "metadata": {},
   "source": [
    "# Fever"
   ]
  },
  {
   "cell_type": "code",
   "execution_count": 67,
   "id": "6e760182",
   "metadata": {},
   "outputs": [],
   "source": [
    "\n",
    "# |S| = 14 total Rows in dataset"
   ]
  },
  {
   "cell_type": "code",
   "execution_count": 68,
   "id": "b28fdfbe",
   "metadata": {},
   "outputs": [],
   "source": [
    "# for v = yes , |Sv| = 8"
   ]
  },
  {
   "cell_type": "code",
   "execution_count": 69,
   "id": "0c2a4791",
   "metadata": {},
   "outputs": [],
   "source": [
    "# Entropy (Sv)= - (6/8) * log2 (6/8) - 2/8 *log2(2/8)"
   ]
  },
  {
   "cell_type": "code",
   "execution_count": 70,
   "id": "579b0f47",
   "metadata": {},
   "outputs": [
    {
     "data": {
      "text/plain": [
       "0.81"
      ]
     },
     "execution_count": 70,
     "metadata": {},
     "output_type": "execute_result"
    }
   ],
   "source": [
    "0.81"
   ]
  },
  {
   "cell_type": "code",
   "execution_count": 71,
   "id": "9e1f62d0",
   "metadata": {},
   "outputs": [],
   "source": [
    "# for v = No ,  |Sv| = 6"
   ]
  },
  {
   "cell_type": "code",
   "execution_count": 72,
   "id": "df5b320b",
   "metadata": {},
   "outputs": [],
   "source": [
    "# Entropy(s) = -2/6 * log2(2/6) - 4/6 log2 (4/6)"
   ]
  },
  {
   "cell_type": "code",
   "execution_count": 73,
   "id": "a7d70f28",
   "metadata": {},
   "outputs": [
    {
     "data": {
      "text/plain": [
       "0.91"
      ]
     },
     "execution_count": 73,
     "metadata": {},
     "output_type": "execute_result"
    }
   ],
   "source": [
    "0.91"
   ]
  },
  {
   "cell_type": "code",
   "execution_count": 82,
   "id": "01ae8904",
   "metadata": {},
   "outputs": [],
   "source": [
    " #Information Gain = 0.99 - (8/14) * 0.81 - 6/14 * 0.91 =0.13"
   ]
  },
  {
   "cell_type": "code",
   "execution_count": 76,
   "id": "18cea2e0",
   "metadata": {},
   "outputs": [
    {
     "data": {
      "text/plain": [
       "0.5714285714285714"
      ]
     },
     "execution_count": 76,
     "metadata": {},
     "output_type": "execute_result"
    }
   ],
   "source": [
    "8/14"
   ]
  },
  {
   "cell_type": "code",
   "execution_count": 77,
   "id": "c069386f",
   "metadata": {},
   "outputs": [
    {
     "data": {
      "text/plain": [
       "0.4185714285714286"
      ]
     },
     "execution_count": 77,
     "metadata": {},
     "output_type": "execute_result"
    }
   ],
   "source": [
    "0.99-0.5714285714285714"
   ]
  },
  {
   "cell_type": "code",
   "execution_count": 78,
   "id": "e7bc4146",
   "metadata": {},
   "outputs": [
    {
     "data": {
      "text/plain": [
       "0.3390428571428572"
      ]
     },
     "execution_count": 78,
     "metadata": {},
     "output_type": "execute_result"
    }
   ],
   "source": [
    "0.4185714285714286 * 0.81"
   ]
  },
  {
   "cell_type": "code",
   "execution_count": 79,
   "id": "658ffe5f",
   "metadata": {},
   "outputs": [
    {
     "data": {
      "text/plain": [
       "0.42857142857142855"
      ]
     },
     "execution_count": 79,
     "metadata": {},
     "output_type": "execute_result"
    }
   ],
   "source": [
    "6/14\n"
   ]
  },
  {
   "cell_type": "code",
   "execution_count": 80,
   "id": "bea00f72",
   "metadata": {},
   "outputs": [
    {
     "data": {
      "text/plain": [
       "0.39"
      ]
     },
     "execution_count": 80,
     "metadata": {},
     "output_type": "execute_result"
    }
   ],
   "source": [
    "0.42857142857142855 * 0.91"
   ]
  },
  {
   "cell_type": "code",
   "execution_count": 81,
   "id": "528eaf77",
   "metadata": {},
   "outputs": [
    {
     "data": {
      "text/plain": [
       "-0.05095714285714281"
      ]
     },
     "execution_count": 81,
     "metadata": {},
     "output_type": "execute_result"
    }
   ],
   "source": [
    "0.3390428571428572- 0.39"
   ]
  },
  {
   "cell_type": "code",
   "execution_count": null,
   "id": "8e1c0cbb",
   "metadata": {},
   "outputs": [],
   "source": [
    "0."
   ]
  }
 ],
 "metadata": {
  "kernelspec": {
   "display_name": "Python 3 (ipykernel)",
   "language": "python",
   "name": "python3"
  },
  "language_info": {
   "codemirror_mode": {
    "name": "ipython",
    "version": 3
   },
   "file_extension": ".py",
   "mimetype": "text/x-python",
   "name": "python",
   "nbconvert_exporter": "python",
   "pygments_lexer": "ipython3",
   "version": "3.10.9"
  }
 },
 "nbformat": 4,
 "nbformat_minor": 5
}
