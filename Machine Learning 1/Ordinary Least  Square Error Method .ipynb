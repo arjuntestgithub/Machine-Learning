{
 "cells": [
  {
   "attachments": {
    "download.png": {
     "image/png": "[encoded data removed]"
    }
   },
   "cell_type": "markdown",
   "id": "73a4ed86",
   "metadata": {},
   "source": [
    "![download.png](attachment:download.png)"
   ]
  },
  {
   "cell_type": "code",
   "execution_count": 3,
   "id": "91129dab",
   "metadata": {},
   "outputs": [],
   "source": [
    "import pandas as pd\n",
    "import matplotlib.pyplot as plt\n",
    "import seaborn as sns\n",
    "import warnings\n",
    "warnings.filterwarnings('ignore')\n"
   ]
  },
  {
   "cell_type": "code",
   "execution_count": 4,
   "id": "b4431134",
   "metadata": {},
   "outputs": [],
   "source": [
    "df=pd.read_csv(r'C:\\Users\\arjun\\Downloads\\data.csv')"
   ]
  },
  {
   "cell_type": "code",
   "execution_count": 16,
   "id": "dd8bae5f",
   "metadata": {},
   "outputs": [
    {
     "data": {
      "text/html": [
       "<div>\n",
       "<style scoped>\n",
       "    .dataframe tbody tr th:only-of-type {\n",
       "        vertical-align: middle;\n",
       "    }\n",
       "\n",
       "    .dataframe tbody tr th {\n",
       "        vertical-align: top;\n",
       "    }\n",
       "\n",
       "    .dataframe thead th {\n",
       "        text-align: right;\n",
       "    }\n",
       "</style>\n",
       "<table border=\"1\" class=\"dataframe\">\n",
       "  <thead>\n",
       "    <tr style=\"text-align: right;\">\n",
       "      <th></th>\n",
       "      <th>X</th>\n",
       "      <th>y</th>\n",
       "    </tr>\n",
       "  </thead>\n",
       "  <tbody>\n",
       "    <tr>\n",
       "      <th>0</th>\n",
       "      <td>32.502345</td>\n",
       "      <td>31.707006</td>\n",
       "    </tr>\n",
       "    <tr>\n",
       "      <th>1</th>\n",
       "      <td>53.426804</td>\n",
       "      <td>68.777596</td>\n",
       "    </tr>\n",
       "    <tr>\n",
       "      <th>2</th>\n",
       "      <td>61.530358</td>\n",
       "      <td>62.562382</td>\n",
       "    </tr>\n",
       "    <tr>\n",
       "      <th>3</th>\n",
       "      <td>47.475640</td>\n",
       "      <td>71.546632</td>\n",
       "    </tr>\n",
       "    <tr>\n",
       "      <th>4</th>\n",
       "      <td>59.813208</td>\n",
       "      <td>87.230925</td>\n",
       "    </tr>\n",
       "    <tr>\n",
       "      <th>...</th>\n",
       "      <td>...</td>\n",
       "      <td>...</td>\n",
       "    </tr>\n",
       "    <tr>\n",
       "      <th>95</th>\n",
       "      <td>50.030174</td>\n",
       "      <td>81.536991</td>\n",
       "    </tr>\n",
       "    <tr>\n",
       "      <th>96</th>\n",
       "      <td>49.239765</td>\n",
       "      <td>72.111832</td>\n",
       "    </tr>\n",
       "    <tr>\n",
       "      <th>97</th>\n",
       "      <td>50.039576</td>\n",
       "      <td>85.232007</td>\n",
       "    </tr>\n",
       "    <tr>\n",
       "      <th>98</th>\n",
       "      <td>48.149859</td>\n",
       "      <td>66.224958</td>\n",
       "    </tr>\n",
       "    <tr>\n",
       "      <th>99</th>\n",
       "      <td>25.128485</td>\n",
       "      <td>53.454394</td>\n",
       "    </tr>\n",
       "  </tbody>\n",
       "</table>\n",
       "<p>100 rows × 2 columns</p>\n",
       "</div>"
      ],
      "text/plain": [
       "            X          y\n",
       "0   32.502345  31.707006\n",
       "1   53.426804  68.777596\n",
       "2   61.530358  62.562382\n",
       "3   47.475640  71.546632\n",
       "4   59.813208  87.230925\n",
       "..        ...        ...\n",
       "95  50.030174  81.536991\n",
       "96  49.239765  72.111832\n",
       "97  50.039576  85.232007\n",
       "98  48.149859  66.224958\n",
       "99  25.128485  53.454394\n",
       "\n",
       "[100 rows x 2 columns]"
      ]
     },
     "execution_count": 16,
     "metadata": {},
     "output_type": "execute_result"
    }
   ],
   "source": [
    "df"
   ]
  },
  {
   "cell_type": "code",
   "execution_count": 17,
   "id": "7235992d",
   "metadata": {},
   "outputs": [
    {
     "data": {
      "text/plain": [
       "(100, 2)"
      ]
     },
     "execution_count": 17,
     "metadata": {},
     "output_type": "execute_result"
    }
   ],
   "source": [
    "df.shape"
   ]
  },
  {
   "cell_type": "code",
   "execution_count": 19,
   "id": "cb17c713",
   "metadata": {},
   "outputs": [
    {
     "data": {
      "text/plain": [
       "<matplotlib.collections.PathCollection at 0x2456c1c9a20>"
      ]
     },
     "execution_count": 19,
     "metadata": {},
     "output_type": "execute_result"
    },
    {
     "data": {
      "image/png": "[encoded data removed]",
      "text/plain": [
       "<Figure size 640x480 with 1 Axes>"
      ]
     },
     "metadata": {},
     "output_type": "display_data"
    }
   ],
   "source": [
    "plt.scatter(df['X'],df['y'])"
   ]
  },
  {
   "cell_type": "markdown",
   "id": "89e7474a",
   "metadata": {},
   "source": [
    "![download.png](attachment:download.png)"
   ]
  },
  {
   "cell_type": "code",
   "execution_count": null,
   "id": "43e5072b",
   "metadata": {},
   "outputs": [],
   "source": []
  },
  {
   "cell_type": "markdown",
   "id": "a8769628",
   "metadata": {},
   "source": [
    "C=ymean - m mean of X"
   ]
  },
  {
   "cell_type": "markdown",
   "id": "4230314a",
   "metadata": {},
   "source": [
    "Intersect, Slope"
   ]
  },
  {
   "cell_type": "code",
   "execution_count": 28,
   "id": "3cb7a018",
   "metadata": {},
   "outputs": [],
   "source": [
    "mean_of_y = df['y'].mean()\n",
    "mean_of_x = df['X'].mean()"
   ]
  },
  {
   "cell_type": "code",
   "execution_count": 29,
   "id": "8441a51d",
   "metadata": {},
   "outputs": [
    {
     "data": {
      "text/plain": [
       "72.73505055368646"
      ]
     },
     "execution_count": 29,
     "metadata": {},
     "output_type": "execute_result"
    }
   ],
   "source": [
    "mean_of_y\n"
   ]
  },
  {
   "cell_type": "code",
   "execution_count": 31,
   "id": "1e4fbef3",
   "metadata": {},
   "outputs": [
    {
     "data": {
      "text/plain": [
       "48.95834146155935"
      ]
     },
     "execution_count": 31,
     "metadata": {},
     "output_type": "execute_result"
    }
   ],
   "source": [
    "mean_of_x"
   ]
  },
  {
   "cell_type": "code",
   "execution_count": null,
   "id": "ba4606dc",
   "metadata": {},
   "outputs": [],
   "source": []
  },
  {
   "cell_type": "markdown",
   "id": "b14ab21f",
   "metadata": {},
   "source": [
    "Slop Find Value Of M "
   ]
  },
  {
   "cell_type": "code",
   "execution_count": 33,
   "id": "8f6e49c9",
   "metadata": {},
   "outputs": [],
   "source": [
    "y = df['y']-mean_of_y"
   ]
  },
  {
   "cell_type": "code",
   "execution_count": 34,
   "id": "130535bb",
   "metadata": {},
   "outputs": [
    {
     "data": {
      "text/plain": [
       "0    -41.028045\n",
       "1     -3.957455\n",
       "2    -10.172668\n",
       "3     -1.188418\n",
       "4     14.495875\n",
       "        ...    \n",
       "95     8.801940\n",
       "96    -0.623218\n",
       "97    12.496957\n",
       "98    -6.510093\n",
       "99   -19.280656\n",
       "Name: y, Length: 100, dtype: float64"
      ]
     },
     "execution_count": 34,
     "metadata": {},
     "output_type": "execute_result"
    }
   ],
   "source": [
    "y"
   ]
  },
  {
   "cell_type": "code",
   "execution_count": 38,
   "id": "64e8b464",
   "metadata": {},
   "outputs": [],
   "source": [
    "xy = df['X']-mean_of_x"
   ]
  },
  {
   "cell_type": "code",
   "execution_count": 39,
   "id": "aa03cff8",
   "metadata": {},
   "outputs": [
    {
     "data": {
      "text/plain": [
       "0    -16.455996\n",
       "1      4.468463\n",
       "2     12.572017\n",
       "3     -1.482702\n",
       "4     10.854866\n",
       "        ...    \n",
       "95     1.071833\n",
       "96     0.281424\n",
       "97     1.081234\n",
       "98    -0.808483\n",
       "99   -23.829857\n",
       "Name: X, Length: 100, dtype: float64"
      ]
     },
     "execution_count": 39,
     "metadata": {},
     "output_type": "execute_result"
    }
   ],
   "source": [
    "xy"
   ]
  },
  {
   "cell_type": "code",
   "execution_count": 40,
   "id": "b1f72897",
   "metadata": {},
   "outputs": [
    {
     "data": {
      "text/plain": [
       "0     675.157347\n",
       "1     -17.683738\n",
       "2    -127.890954\n",
       "3       1.762070\n",
       "4     157.350782\n",
       "         ...    \n",
       "95      9.434209\n",
       "96     -0.175388\n",
       "97     13.512141\n",
       "98      5.263296\n",
       "99    459.455280\n",
       "Length: 100, dtype: float64"
      ]
     },
     "execution_count": 40,
     "metadata": {},
     "output_type": "execute_result"
    }
   ],
   "source": [
    "xy*y"
   ]
  },
  {
   "cell_type": "code",
   "execution_count": 48,
   "id": "44892440",
   "metadata": {},
   "outputs": [
    {
     "name": "stdout",
     "output_type": "stream",
     "text": [
      "12436.404556436326\n",
      "9404.199041341584\n"
     ]
    }
   ],
   "source": [
    "num=0\n",
    "denm=0\n",
    "\n",
    "for i in range(100):\n",
    "    num += (df['X'][i]-mean_of_x)*(df['y'][i]-mean_of_y)\n",
    "    denm += (df['X'][i]-mean_of_x)**2\n",
    "    \n",
    "print(num)\n",
    "print(denm)"
   ]
  },
  {
   "cell_type": "code",
   "execution_count": 49,
   "id": "8e625e6a",
   "metadata": {},
   "outputs": [],
   "source": [
    "m=num/denm"
   ]
  },
  {
   "cell_type": "code",
   "execution_count": 50,
   "id": "cd79ee4e",
   "metadata": {},
   "outputs": [
    {
     "data": {
      "text/plain": [
       "1.32243102275536"
      ]
     },
     "execution_count": 50,
     "metadata": {},
     "output_type": "execute_result"
    }
   ],
   "source": [
    "m"
   ]
  },
  {
   "cell_type": "code",
   "execution_count": 51,
   "id": "41e1c30a",
   "metadata": {},
   "outputs": [
    {
     "name": "stdout",
     "output_type": "stream",
     "text": [
      "Slope 1.32243102275536\n"
     ]
    }
   ],
   "source": [
    "print('Slope',m)"
   ]
  },
  {
   "cell_type": "code",
   "execution_count": 52,
   "id": "68543ab1",
   "metadata": {},
   "outputs": [],
   "source": [
    "C=mean_of_y - m*mean_of_x "
   ]
  },
  {
   "cell_type": "code",
   "execution_count": 53,
   "id": "67e4e9df",
   "metadata": {},
   "outputs": [
    {
     "data": {
      "text/plain": [
       "7.991020982270385"
      ]
     },
     "execution_count": 53,
     "metadata": {},
     "output_type": "execute_result"
    }
   ],
   "source": [
    "C"
   ]
  },
  {
   "cell_type": "markdown",
   "id": "31c3944f",
   "metadata": {},
   "source": [
    "y_pred= mX+c "
   ]
  },
  {
   "cell_type": "code",
   "execution_count": 56,
   "id": "ba80af3e",
   "metadata": {},
   "outputs": [],
   "source": [
    "input_x=49.8225\n",
    "\n",
    "y_pred = m*input_x +C"
   ]
  },
  {
   "cell_type": "code",
   "execution_count": 57,
   "id": "811d3db2",
   "metadata": {},
   "outputs": [
    {
     "data": {
      "text/plain": [
       "73.8778406134993"
      ]
     },
     "execution_count": 57,
     "metadata": {},
     "output_type": "execute_result"
    }
   ],
   "source": [
    "y_pred"
   ]
  },
  {
   "cell_type": "code",
   "execution_count": 58,
   "id": "28d75e66",
   "metadata": {},
   "outputs": [],
   "source": [
    "from sklearn.linear_model import LinearRegression"
   ]
  },
  {
   "cell_type": "code",
   "execution_count": 59,
   "id": "90610ef5",
   "metadata": {},
   "outputs": [],
   "source": [
    "lr=LinearRegression()"
   ]
  },
  {
   "cell_type": "code",
   "execution_count": 62,
   "id": "6f78aace",
   "metadata": {},
   "outputs": [
    {
     "data": {
      "text/html": [
       "<style>#sk-container-id-2 {color: black;background-color: white;}#sk-container-id-2 pre{padding: 0;}#sk-container-id-2 div.sk-toggleable {background-color: white;}#sk-container-id-2 label.sk-toggleable__label {cursor: pointer;display: block;width: 100%;margin-bottom: 0;padding: 0.3em;box-sizing: border-box;text-align: center;}#sk-container-id-2 label.sk-toggleable__label-arrow:before {content: \"▸\";float: left;margin-right: 0.25em;color: #696969;}#sk-container-id-2 label.sk-toggleable__label-arrow:hover:before {color: black;}#sk-container-id-2 div.sk-estimator:hover label.sk-toggleable__label-arrow:before {color: black;}#sk-container-id-2 div.sk-toggleable__content {max-height: 0;max-width: 0;overflow: hidden;text-align: left;background-color: #f0f8ff;}#sk-container-id-2 div.sk-toggleable__content pre {margin: 0.2em;color: black;border-radius: 0.25em;background-color: #f0f8ff;}#sk-container-id-2 input.sk-toggleable__control:checked~div.sk-toggleable__content {max-height: 200px;max-width: 100%;overflow: auto;}#sk-container-id-2 input.sk-toggleable__control:checked~label.sk-toggleable__label-arrow:before {content: \"▾\";}#sk-container-id-2 div.sk-estimator input.sk-toggleable__control:checked~label.sk-toggleable__label {background-color: #d4ebff;}#sk-container-id-2 div.sk-label input.sk-toggleable__control:checked~label.sk-toggleable__label {background-color: #d4ebff;}#sk-container-id-2 input.sk-hidden--visually {border: 0;clip: rect(1px 1px 1px 1px);clip: rect(1px, 1px, 1px, 1px);height: 1px;margin: -1px;overflow: hidden;padding: 0;position: absolute;width: 1px;}#sk-container-id-2 div.sk-estimator {font-family: monospace;background-color: #f0f8ff;border: 1px dotted black;border-radius: 0.25em;box-sizing: border-box;margin-bottom: 0.5em;}#sk-container-id-2 div.sk-estimator:hover {background-color: #d4ebff;}#sk-container-id-2 div.sk-parallel-item::after {content: \"\";width: 100%;border-bottom: 1px solid gray;flex-grow: 1;}#sk-container-id-2 div.sk-label:hover label.sk-toggleable__label {background-color: #d4ebff;}#sk-container-id-2 div.sk-serial::before {content: \"\";position: absolute;border-left: 1px solid gray;box-sizing: border-box;top: 0;bottom: 0;left: 50%;z-index: 0;}#sk-container-id-2 div.sk-serial {display: flex;flex-direction: column;align-items: center;background-color: white;padding-right: 0.2em;padding-left: 0.2em;position: relative;}#sk-container-id-2 div.sk-item {position: relative;z-index: 1;}#sk-container-id-2 div.sk-parallel {display: flex;align-items: stretch;justify-content: center;background-color: white;position: relative;}#sk-container-id-2 div.sk-item::before, #sk-container-id-2 div.sk-parallel-item::before {content: \"\";position: absolute;border-left: 1px solid gray;box-sizing: border-box;top: 0;bottom: 0;left: 50%;z-index: -1;}#sk-container-id-2 div.sk-parallel-item {display: flex;flex-direction: column;z-index: 1;position: relative;background-color: white;}#sk-container-id-2 div.sk-parallel-item:first-child::after {align-self: flex-end;width: 50%;}#sk-container-id-2 div.sk-parallel-item:last-child::after {align-self: flex-start;width: 50%;}#sk-container-id-2 div.sk-parallel-item:only-child::after {width: 0;}#sk-container-id-2 div.sk-dashed-wrapped {border: 1px dashed gray;margin: 0 0.4em 0.5em 0.4em;box-sizing: border-box;padding-bottom: 0.4em;background-color: white;}#sk-container-id-2 div.sk-label label {font-family: monospace;font-weight: bold;display: inline-block;line-height: 1.2em;}#sk-container-id-2 div.sk-label-container {text-align: center;}#sk-container-id-2 div.sk-container {/* jupyter's `normalize.less` sets `[hidden] { display: none; }` but bootstrap.min.css set `[hidden] { display: none !important; }` so we also need the `!important` here to be able to override the default hidden behavior on the sphinx rendered scikit-learn.org. See: https://github.com/scikit-learn/scikit-learn/issues/21755 */display: inline-block !important;position: relative;}#sk-container-id-2 div.sk-text-repr-fallback {display: none;}</style><div id=\"sk-container-id-2\" class=\"sk-top-container\"><div class=\"sk-text-repr-fallback\"><pre>LinearRegression()</pre><b>In a Jupyter environment, please rerun this cell to show the HTML representation or trust the notebook. <br />On GitHub, the HTML representation is unable to render, please try loading this page with nbviewer.org.</b></div><div class=\"sk-container\" hidden><div class=\"sk-item\"><div class=\"sk-estimator sk-toggleable\"><input class=\"sk-toggleable__control sk-hidden--visually\" id=\"sk-estimator-id-2\" type=\"checkbox\" checked><label for=\"sk-estimator-id-2\" class=\"sk-toggleable__label sk-toggleable__label-arrow\">LinearRegression</label><div class=\"sk-toggleable__content\"><pre>LinearRegression()</pre></div></div></div></div></div>"
      ],
      "text/plain": [
       "LinearRegression()"
      ]
     },
     "execution_count": 62,
     "metadata": {},
     "output_type": "execute_result"
    }
   ],
   "source": [
    "lr.fit(df[['X']],df['y'])"
   ]
  },
  {
   "cell_type": "code",
   "execution_count": 65,
   "id": "89158820",
   "metadata": {},
   "outputs": [
    {
     "data": {
      "text/plain": [
       "1.3224310227553597"
      ]
     },
     "execution_count": 65,
     "metadata": {},
     "output_type": "execute_result"
    }
   ],
   "source": [
    "lr.coef_[0]"
   ]
  },
  {
   "cell_type": "code",
   "execution_count": 64,
   "id": "56125230",
   "metadata": {},
   "outputs": [
    {
     "data": {
      "text/plain": [
       "7.991020982270399"
      ]
     },
     "execution_count": 64,
     "metadata": {},
     "output_type": "execute_result"
    }
   ],
   "source": [
    "lr.intercept_"
   ]
  },
  {
   "cell_type": "code",
   "execution_count": 66,
   "id": "48d62058",
   "metadata": {},
   "outputs": [],
   "source": [
    "import numpy as np"
   ]
  },
  {
   "cell_type": "code",
   "execution_count": 75,
   "id": "37667927",
   "metadata": {},
   "outputs": [
    {
     "data": {
      "text/plain": [
       "array([25.12848465, 26.05129263, 26.97410061, 27.89690858, 28.81971656,\n",
       "       29.74252454, 30.66533252, 31.5881405 , 32.51094848, 33.43375646,\n",
       "       34.35656444, 35.27937242, 36.20218039, 37.12498837, 38.04779635,\n",
       "       38.97060433, 39.89341231, 40.81622029, 41.73902827, 42.66183625,\n",
       "       43.58464423, 44.50745221, 45.43026018, 46.35306816, 47.27587614,\n",
       "       48.19868412, 49.1214921 , 50.04430008, 50.96710806, 51.88991604,\n",
       "       52.81272402, 53.73553199, 54.65833997, 55.58114795, 56.50395593,\n",
       "       57.42676391, 58.34957189, 59.27237987, 60.19518785, 61.11799583,\n",
       "       62.0408038 , 62.96361178, 63.88641976, 64.80922774, 65.73203572,\n",
       "       66.6548437 , 67.57765168, 68.50045966, 69.42326764, 70.34607562])"
      ]
     },
     "execution_count": 75,
     "metadata": {},
     "output_type": "execute_result"
    }
   ],
   "source": [
    "np.linspace(min(df['X']),max(df['X']),50)"
   ]
  },
  {
   "cell_type": "code",
   "execution_count": 77,
   "id": "308e2dee",
   "metadata": {},
   "outputs": [
    {
     "data": {
      "text/plain": [
       "[<matplotlib.lines.Line2D at 0x2456e4d6410>]"
      ]
     },
     "execution_count": 77,
     "metadata": {},
     "output_type": "execute_result"
    },
    {
     "data": {
      "image/png": "[encoded data removed]",
      "text/plain": [
       "<Figure size 640x480 with 1 Axes>"
      ]
     },
     "metadata": {},
     "output_type": "display_data"
    }
   ],
   "source": [
    "plt.plot(np.linspace(min(df['X']),max(df['X']),50))"
   ]
  },
  {
   "cell_type": "code",
   "execution_count": 78,
   "id": "ce52352a",
   "metadata": {},
   "outputs": [
    {
     "data": {
      "text/plain": [
       "[<matplotlib.lines.Line2D at 0x2456e5035e0>]"
      ]
     },
     "execution_count": 78,
     "metadata": {},
     "output_type": "execute_result"
    },
    {
     "data": {
      "image/png": "[encoded data removed]",
      "text/plain": [
       "<Figure size 640x480 with 1 Axes>"
      ]
     },
     "metadata": {},
     "output_type": "display_data"
    }
   ],
   "source": [
    "plt.scatter(df['X'],df['y'])\n",
    "plt.plot(np.linspace(min(df['X']),max(df['X']),50))"
   ]
  },
  {
   "cell_type": "code",
   "execution_count": 79,
   "id": "bfcaf4eb",
   "metadata": {},
   "outputs": [],
   "source": [
    "y_pred=m*df['X'] + C"
   ]
  },
  {
   "cell_type": "code",
   "execution_count": 80,
   "id": "c96c1c9b",
   "metadata": {},
   "outputs": [
    {
     "data": {
      "text/plain": [
       "0     50.973131\n",
       "1     78.644284\n",
       "2     89.360675\n",
       "3     70.774280\n",
       "4     87.089863\n",
       "        ...    \n",
       "95    74.152476\n",
       "96    73.107214\n",
       "97    74.164909\n",
       "98    71.665888\n",
       "99    41.221709\n",
       "Name: X, Length: 100, dtype: float64"
      ]
     },
     "execution_count": 80,
     "metadata": {},
     "output_type": "execute_result"
    }
   ],
   "source": [
    "y_pred"
   ]
  },
  {
   "cell_type": "code",
   "execution_count": 81,
   "id": "1e42a040",
   "metadata": {},
   "outputs": [
    {
     "data": {
      "text/plain": [
       "[<matplotlib.lines.Line2D at 0x2456e358fd0>]"
      ]
     },
     "execution_count": 81,
     "metadata": {},
     "output_type": "execute_result"
    },
    {
     "data": {
      "image/png": "[encoded data removed]",
      "text/plain": [
       "<Figure size 640x480 with 1 Axes>"
      ]
     },
     "metadata": {},
     "output_type": "display_data"
    }
   ],
   "source": [
    "plt.scatter(df['X'],df['y'])\n",
    "plt.plot(y_pred)"
   ]
  },
  {
   "cell_type": "code",
   "execution_count": 85,
   "id": "a6209424",
   "metadata": {},
   "outputs": [
    {
     "data": {
      "text/plain": [
       "[<matplotlib.lines.Line2D at 0x2456f747430>]"
      ]
     },
     "execution_count": 85,
     "metadata": {},
     "output_type": "execute_result"
    },
    {
     "data": {
      "image/png": "[encoded data removed]",
      "text/plain": [
       "<Figure size 640x480 with 1 Axes>"
      ]
     },
     "metadata": {},
     "output_type": "display_data"
    }
   ],
   "source": [
    "plt.scatter(df['X'],df['y'])\n",
    "plt.plot(df['X'],y_pred,color='r',marker='X')"
   ]
  },
  {
   "attachments": {
    "download.png": {
     "image/png": "[encoded data removed]"
    }
   },
   "cell_type": "markdown",
   "id": "b97c2189",
   "metadata": {},
   "source": [
    "![download.png](attachment:download.png)"
   ]
  },
  {
   "cell_type": "code",
   "execution_count": 88,
   "id": "3224d051",
   "metadata": {},
   "outputs": [
    {
     "name": "stdout",
     "output_type": "stream",
     "text": [
      "11025.738346621318\n",
      "65937.38856650554\n"
     ]
    }
   ],
   "source": [
    "nr=0\n",
    "dr=0\n",
    "\n",
    "for i in range(100):\n",
    "    nr+=  (df['y'][i]- y_pred[i])**2\n",
    "    \n",
    "    dr+=  (df['X'][i] - mean_of_y)**2\n",
    "    \n",
    "print(nr)\n",
    "print(dr)"
   ]
  },
  {
   "cell_type": "code",
   "execution_count": 89,
   "id": "47dd957f",
   "metadata": {},
   "outputs": [],
   "source": [
    "r_square = 1-nr/dr"
   ]
  },
  {
   "cell_type": "code",
   "execution_count": 90,
   "id": "a2e0eb52",
   "metadata": {},
   "outputs": [
    {
     "data": {
      "text/plain": [
       "0.8327847282653517"
      ]
     },
     "execution_count": 90,
     "metadata": {},
     "output_type": "execute_result"
    }
   ],
   "source": [
    "r_square"
   ]
  },
  {
   "cell_type": "code",
   "execution_count": null,
   "id": "5848184e",
   "metadata": {},
   "outputs": [],
   "source": []
  },
  {
   "cell_type": "code",
   "execution_count": null,
   "id": "69c5a88f",
   "metadata": {},
   "outputs": [],
   "source": []
  },
  {
   "attachments": {
    "1_kW2xSxbIb7laGRoEcgx8vg.jpg": {
     "image/jpeg": "[encoded data removed]"
    }
   },
   "cell_type": "markdown",
   "id": "635b90a0",
   "metadata": {},
   "source": [
    "![1_kW2xSxbIb7laGRoEcgx8vg.jpg](attachment:1_kW2xSxbIb7laGRoEcgx8vg.jpg)"
   ]
  },
  {
   "cell_type": "code",
   "execution_count": 91,
   "id": "8d12f6dd",
   "metadata": {},
   "outputs": [],
   "source": [
    "N= len(df)"
   ]
  },
  {
   "cell_type": "code",
   "execution_count": 92,
   "id": "2c163742",
   "metadata": {},
   "outputs": [
    {
     "data": {
      "text/plain": [
       "100"
      ]
     },
     "execution_count": 92,
     "metadata": {},
     "output_type": "execute_result"
    }
   ],
   "source": [
    "N"
   ]
  },
  {
   "cell_type": "code",
   "execution_count": 93,
   "id": "b6321d95",
   "metadata": {},
   "outputs": [],
   "source": [
    "p=1"
   ]
  },
  {
   "cell_type": "code",
   "execution_count": 94,
   "id": "cfa9002a",
   "metadata": {},
   "outputs": [],
   "source": [
    "numar = ( 1 - r_square )* (N - 1 )"
   ]
  },
  {
   "cell_type": "code",
   "execution_count": 96,
   "id": "196f4428",
   "metadata": {},
   "outputs": [],
   "source": [
    "denome = (N - p -1)"
   ]
  },
  {
   "cell_type": "code",
   "execution_count": 97,
   "id": "85cd2da6",
   "metadata": {},
   "outputs": [
    {
     "data": {
      "text/plain": [
       "98"
      ]
     },
     "execution_count": 97,
     "metadata": {},
     "output_type": "execute_result"
    }
   ],
   "source": [
    "denome"
   ]
  },
  {
   "cell_type": "code",
   "execution_count": 98,
   "id": "c684f605",
   "metadata": {},
   "outputs": [
    {
     "data": {
      "text/plain": [
       "16.554311901730184"
      ]
     },
     "execution_count": 98,
     "metadata": {},
     "output_type": "execute_result"
    }
   ],
   "source": [
    "numar"
   ]
  },
  {
   "cell_type": "code",
   "execution_count": 99,
   "id": "484f52b5",
   "metadata": {},
   "outputs": [],
   "source": [
    "Adjust_R = 1- numar/ denome"
   ]
  },
  {
   "cell_type": "code",
   "execution_count": 100,
   "id": "746bec23",
   "metadata": {},
   "outputs": [
    {
     "data": {
      "text/plain": [
       "0.831078449982345"
      ]
     },
     "execution_count": 100,
     "metadata": {},
     "output_type": "execute_result"
    }
   ],
   "source": [
    "Adjust_R"
   ]
  },
  {
   "cell_type": "code",
   "execution_count": null,
   "id": "742d3336",
   "metadata": {},
   "outputs": [],
   "source": []
  },
  {
   "cell_type": "code",
   "execution_count": null,
   "id": "b6976d55",
   "metadata": {},
   "outputs": [],
   "source": []
  },
  {
   "cell_type": "code",
   "execution_count": null,
   "id": "1d95dca2",
   "metadata": {},
   "outputs": [],
   "source": []
  },
  {
   "cell_type": "markdown",
   "id": "ee1e9aac",
   "metadata": {},
   "source": [
    "#  SatasModel API"
   ]
  },
  {
   "cell_type": "code",
   "execution_count": 1,
   "id": "1dcfd870",
   "metadata": {},
   "outputs": [],
   "source": [
    "import statsmodels.api as sm"
   ]
  },
  {
   "cell_type": "markdown",
   "id": "998627fa",
   "metadata": {},
   "source": [
    "y= mx+b"
   ]
  },
  {
   "cell_type": "code",
   "execution_count": 5,
   "id": "7e681d5f",
   "metadata": {},
   "outputs": [],
   "source": [
    "X= df['X']"
   ]
  },
  {
   "cell_type": "code",
   "execution_count": 6,
   "id": "1f1051d7",
   "metadata": {},
   "outputs": [
    {
     "data": {
      "text/plain": [
       "0     32.502345\n",
       "1     53.426804\n",
       "2     61.530358\n",
       "3     47.475640\n",
       "4     59.813208\n",
       "        ...    \n",
       "95    50.030174\n",
       "96    49.239765\n",
       "97    50.039576\n",
       "98    48.149859\n",
       "99    25.128485\n",
       "Name: X, Length: 100, dtype: float64"
      ]
     },
     "execution_count": 6,
     "metadata": {},
     "output_type": "execute_result"
    }
   ],
   "source": [
    "X"
   ]
  },
  {
   "cell_type": "code",
   "execution_count": 7,
   "id": "6cc0eafa",
   "metadata": {},
   "outputs": [],
   "source": [
    "X=sm.add_constant(X)"
   ]
  },
  {
   "cell_type": "code",
   "execution_count": 8,
   "id": "3b32ef5c",
   "metadata": {},
   "outputs": [
    {
     "data": {
      "text/html": [
       "<div>\n",
       "<style scoped>\n",
       "    .dataframe tbody tr th:only-of-type {\n",
       "        vertical-align: middle;\n",
       "    }\n",
       "\n",
       "    .dataframe tbody tr th {\n",
       "        vertical-align: top;\n",
       "    }\n",
       "\n",
       "    .dataframe thead th {\n",
       "        text-align: right;\n",
       "    }\n",
       "</style>\n",
       "<table border=\"1\" class=\"dataframe\">\n",
       "  <thead>\n",
       "    <tr style=\"text-align: right;\">\n",
       "      <th></th>\n",
       "      <th>const</th>\n",
       "      <th>X</th>\n",
       "    </tr>\n",
       "  </thead>\n",
       "  <tbody>\n",
       "    <tr>\n",
       "      <th>0</th>\n",
       "      <td>1.0</td>\n",
       "      <td>32.502345</td>\n",
       "    </tr>\n",
       "    <tr>\n",
       "      <th>1</th>\n",
       "      <td>1.0</td>\n",
       "      <td>53.426804</td>\n",
       "    </tr>\n",
       "    <tr>\n",
       "      <th>2</th>\n",
       "      <td>1.0</td>\n",
       "      <td>61.530358</td>\n",
       "    </tr>\n",
       "    <tr>\n",
       "      <th>3</th>\n",
       "      <td>1.0</td>\n",
       "      <td>47.475640</td>\n",
       "    </tr>\n",
       "    <tr>\n",
       "      <th>4</th>\n",
       "      <td>1.0</td>\n",
       "      <td>59.813208</td>\n",
       "    </tr>\n",
       "    <tr>\n",
       "      <th>...</th>\n",
       "      <td>...</td>\n",
       "      <td>...</td>\n",
       "    </tr>\n",
       "    <tr>\n",
       "      <th>95</th>\n",
       "      <td>1.0</td>\n",
       "      <td>50.030174</td>\n",
       "    </tr>\n",
       "    <tr>\n",
       "      <th>96</th>\n",
       "      <td>1.0</td>\n",
       "      <td>49.239765</td>\n",
       "    </tr>\n",
       "    <tr>\n",
       "      <th>97</th>\n",
       "      <td>1.0</td>\n",
       "      <td>50.039576</td>\n",
       "    </tr>\n",
       "    <tr>\n",
       "      <th>98</th>\n",
       "      <td>1.0</td>\n",
       "      <td>48.149859</td>\n",
       "    </tr>\n",
       "    <tr>\n",
       "      <th>99</th>\n",
       "      <td>1.0</td>\n",
       "      <td>25.128485</td>\n",
       "    </tr>\n",
       "  </tbody>\n",
       "</table>\n",
       "<p>100 rows × 2 columns</p>\n",
       "</div>"
      ],
      "text/plain": [
       "    const          X\n",
       "0     1.0  32.502345\n",
       "1     1.0  53.426804\n",
       "2     1.0  61.530358\n",
       "3     1.0  47.475640\n",
       "4     1.0  59.813208\n",
       "..    ...        ...\n",
       "95    1.0  50.030174\n",
       "96    1.0  49.239765\n",
       "97    1.0  50.039576\n",
       "98    1.0  48.149859\n",
       "99    1.0  25.128485\n",
       "\n",
       "[100 rows x 2 columns]"
      ]
     },
     "execution_count": 8,
     "metadata": {},
     "output_type": "execute_result"
    }
   ],
   "source": [
    "X"
   ]
  },
  {
   "cell_type": "code",
   "execution_count": 9,
   "id": "ce7cd520",
   "metadata": {},
   "outputs": [],
   "source": [
    "y=df['y']"
   ]
  },
  {
   "cell_type": "code",
   "execution_count": 10,
   "id": "6c2efb08",
   "metadata": {},
   "outputs": [
    {
     "data": {
      "text/plain": [
       "0     31.707006\n",
       "1     68.777596\n",
       "2     62.562382\n",
       "3     71.546632\n",
       "4     87.230925\n",
       "        ...    \n",
       "95    81.536991\n",
       "96    72.111832\n",
       "97    85.232007\n",
       "98    66.224958\n",
       "99    53.454394\n",
       "Name: y, Length: 100, dtype: float64"
      ]
     },
     "execution_count": 10,
     "metadata": {},
     "output_type": "execute_result"
    }
   ],
   "source": [
    "y"
   ]
  },
  {
   "cell_type": "code",
   "execution_count": 12,
   "id": "49fc2b63",
   "metadata": {},
   "outputs": [
    {
     "data": {
      "text/plain": [
       "<statsmodels.regression.linear_model.OLS at 0x1c70fa28a30>"
      ]
     },
     "execution_count": 12,
     "metadata": {},
     "output_type": "execute_result"
    }
   ],
   "source": [
    "model = sm.OLS(y,X)\n",
    "model"
   ]
  },
  {
   "cell_type": "code",
   "execution_count": 13,
   "id": "3c6b8da1",
   "metadata": {},
   "outputs": [],
   "source": [
    "results = model.fit()"
   ]
  },
  {
   "cell_type": "code",
   "execution_count": 14,
   "id": "817d7ab0",
   "metadata": {},
   "outputs": [
    {
     "data": {
      "text/plain": [
       "<statsmodels.regression.linear_model.RegressionResultsWrapper at 0x1c70e746740>"
      ]
     },
     "execution_count": 14,
     "metadata": {},
     "output_type": "execute_result"
    }
   ],
   "source": [
    "results"
   ]
  },
  {
   "cell_type": "code",
   "execution_count": 15,
   "id": "f3e61ff6",
   "metadata": {},
   "outputs": [
    {
     "data": {
      "text/plain": [
       "const    7.991021\n",
       "X        1.322431\n",
       "dtype: float64"
      ]
     },
     "execution_count": 15,
     "metadata": {},
     "output_type": "execute_result"
    }
   ],
   "source": [
    "results.params"
   ]
  },
  {
   "cell_type": "code",
   "execution_count": 16,
   "id": "ce852cb1",
   "metadata": {},
   "outputs": [
    {
     "data": {
      "text/plain": [
       "const    7.991021\n",
       "X        1.322431\n",
       "dtype: float64"
      ]
     },
     "execution_count": 16,
     "metadata": {},
     "output_type": "execute_result"
    }
   ],
   "source": [
    "results.params"
   ]
  },
  {
   "cell_type": "code",
   "execution_count": null,
   "id": "ea583fe6",
   "metadata": {},
   "outputs": [],
   "source": []
  },
  {
   "cell_type": "code",
   "execution_count": 18,
   "id": "a79abafe",
   "metadata": {},
   "outputs": [
    {
     "data": {
      "text/html": [
       "<table class=\"simpletable\">\n",
       "<caption>OLS Regression Results</caption>\n",
       "<tr>\n",
       "  <th>Dep. Variable:</th>            <td>y</td>        <th>  R-squared:         </th> <td>   0.599</td>\n",
       "</tr>\n",
       "<tr>\n",
       "  <th>Model:</th>                   <td>OLS</td>       <th>  Adj. R-squared:    </th> <td>   0.595</td>\n",
       "</tr>\n",
       "<tr>\n",
       "  <th>Method:</th>             <td>Least Squares</td>  <th>  F-statistic:       </th> <td>   146.2</td>\n",
       "</tr>\n",
       "<tr>\n",
       "  <th>Date:</th>             <td>Sat, 22 Jun 2024</td> <th>  Prob (F-statistic):</th> <td>3.86e-21</td>\n",
       "</tr>\n",
       "<tr>\n",
       "  <th>Time:</th>                 <td>12:55:16</td>     <th>  Log-Likelihood:    </th> <td> -377.03</td>\n",
       "</tr>\n",
       "<tr>\n",
       "  <th>No. Observations:</th>      <td>   100</td>      <th>  AIC:               </th> <td>   758.1</td>\n",
       "</tr>\n",
       "<tr>\n",
       "  <th>Df Residuals:</th>          <td>    98</td>      <th>  BIC:               </th> <td>   763.3</td>\n",
       "</tr>\n",
       "<tr>\n",
       "  <th>Df Model:</th>              <td>     1</td>      <th>                     </th>     <td> </td>   \n",
       "</tr>\n",
       "<tr>\n",
       "  <th>Covariance Type:</th>      <td>nonrobust</td>    <th>                     </th>     <td> </td>   \n",
       "</tr>\n",
       "</table>\n",
       "<table class=\"simpletable\">\n",
       "<tr>\n",
       "    <td></td>       <th>coef</th>     <th>std err</th>      <th>t</th>      <th>P>|t|</th>  <th>[0.025</th>    <th>0.975]</th>  \n",
       "</tr>\n",
       "<tr>\n",
       "  <th>const</th> <td>    7.9910</td> <td>    5.459</td> <td>    1.464</td> <td> 0.146</td> <td>   -2.842</td> <td>   18.824</td>\n",
       "</tr>\n",
       "<tr>\n",
       "  <th>X</th>     <td>    1.3224</td> <td>    0.109</td> <td>   12.090</td> <td> 0.000</td> <td>    1.105</td> <td>    1.539</td>\n",
       "</tr>\n",
       "</table>\n",
       "<table class=\"simpletable\">\n",
       "<tr>\n",
       "  <th>Omnibus:</th>       <td> 0.674</td> <th>  Durbin-Watson:     </th> <td>   2.151</td>\n",
       "</tr>\n",
       "<tr>\n",
       "  <th>Prob(Omnibus):</th> <td> 0.714</td> <th>  Jarque-Bera (JB):  </th> <td>   0.808</td>\n",
       "</tr>\n",
       "<tr>\n",
       "  <th>Skew:</th>          <td> 0.148</td> <th>  Prob(JB):          </th> <td>   0.668</td>\n",
       "</tr>\n",
       "<tr>\n",
       "  <th>Kurtosis:</th>      <td> 2.674</td> <th>  Cond. No.          </th> <td>    257.</td>\n",
       "</tr>\n",
       "</table><br/><br/>Notes:<br/>[1] Standard Errors assume that the covariance matrix of the errors is correctly specified."
      ],
      "text/plain": [
       "<class 'statsmodels.iolib.summary.Summary'>\n",
       "\"\"\"\n",
       "                            OLS Regression Results                            \n",
       "==============================================================================\n",
       "Dep. Variable:                      y   R-squared:                       0.599\n",
       "Model:                            OLS   Adj. R-squared:                  0.595\n",
       "Method:                 Least Squares   F-statistic:                     146.2\n",
       "Date:                Sat, 22 Jun 2024   Prob (F-statistic):           3.86e-21\n",
       "Time:                        12:55:16   Log-Likelihood:                -377.03\n",
       "No. Observations:                 100   AIC:                             758.1\n",
       "Df Residuals:                      98   BIC:                             763.3\n",
       "Df Model:                           1                                         \n",
       "Covariance Type:            nonrobust                                         \n",
       "==============================================================================\n",
       "                 coef    std err          t      P>|t|      [0.025      0.975]\n",
       "------------------------------------------------------------------------------\n",
       "const          7.9910      5.459      1.464      0.146      -2.842      18.824\n",
       "X              1.3224      0.109     12.090      0.000       1.105       1.539\n",
       "==============================================================================\n",
       "Omnibus:                        0.674   Durbin-Watson:                   2.151\n",
       "Prob(Omnibus):                  0.714   Jarque-Bera (JB):                0.808\n",
       "Skew:                           0.148   Prob(JB):                        0.668\n",
       "Kurtosis:                       2.674   Cond. No.                         257.\n",
       "==============================================================================\n",
       "\n",
       "Notes:\n",
       "[1] Standard Errors assume that the covariance matrix of the errors is correctly specified.\n",
       "\"\"\""
      ]
     },
     "execution_count": 18,
     "metadata": {},
     "output_type": "execute_result"
    }
   ],
   "source": [
    "results.summary()"
   ]
  },
  {
   "cell_type": "code",
   "execution_count": null,
   "id": "96e23193",
   "metadata": {},
   "outputs": [],
   "source": []
  }
 ],
 "metadata": {
  "kernelspec": {
   "display_name": "Python 3 (ipykernel)",
   "language": "python",
   "name": "python3"
  },
  "language_info": {
   "codemirror_mode": {
    "name": "ipython",
    "version": 3
   },
   "file_extension": ".py",
   "mimetype": "text/x-python",
   "name": "python",
   "nbconvert_exporter": "python",
   "pygments_lexer": "ipython3",
   "version": "3.10.9"
  }
 },
 "nbformat": 4,
 "nbformat_minor": 5
}
