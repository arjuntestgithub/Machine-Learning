{
 "cells": [
  {
   "cell_type": "code",
   "execution_count": 13,
   "id": "8914dc7b",
   "metadata": {},
   "outputs": [
    {
     "name": "stdout",
     "output_type": "stream",
     "text": [
      "id                     0\n",
      "gender                 0\n",
      "age                    0\n",
      "hypertension           0\n",
      "heart_disease          0\n",
      "ever_married           0\n",
      "work_type              0\n",
      "Residence_type         0\n",
      "avg_glucose_level      0\n",
      "bmi                  201\n",
      "smoking_status         0\n",
      "stroke                 0\n",
      "dtype: int64\n"
     ]
    },
    {
     "data": {
      "text/plain": [
       "0.9510763209393346"
      ]
     },
     "execution_count": 13,
     "metadata": {},
     "output_type": "execute_result"
    }
   ],
   "source": [
    "# Deleting The Columns with Missing Value\n",
    "\n",
    "import pandas as pd\n",
    "import numpy as np\n",
    "import matplotlib.pyplot as plt\n",
    "import seaborn as sns\n",
    "\n",
    "#====================================\n",
    "from sklearn.linear_model import LogisticRegression\n",
    "from sklearn.model_selection import train_test_split\n",
    "from sklearn.metrics import confusion_matrix,classification_report,precision_score,recall_score,f1_score\n",
    "\n",
    "df=pd.read_csv(r'C:\\Users\\arjun\\Downloads\\healthcare-dataset-stroke-data.csv')\n",
    "print(df.isna().sum())\n",
    "df.drop(['id','gender','age','bmi','smoking_status','Residence_type','ever_married','work_type'],axis=1,inplace=True)\n",
    "X=df.drop(['heart_disease'],axis=1)\n",
    "y=df['heart_disease']\n",
    "X_train, X_test, y_train, y_test=train_test_split(X,y,test_size=0.2)\n",
    "model=LogisticRegression()\n",
    "model.fit(X_train,y_train)\n",
    "model.score(X_test,y_test)\n"
   ]
  },
  {
   "cell_type": "code",
   "execution_count": 28,
   "id": "036b037c",
   "metadata": {},
   "outputs": [
    {
     "name": "stdout",
     "output_type": "stream",
     "text": [
      "id                     0\n",
      "gender                 0\n",
      "age                    0\n",
      "hypertension           0\n",
      "heart_disease          0\n",
      "ever_married           0\n",
      "work_type              0\n",
      "Residence_type         0\n",
      "avg_glucose_level      0\n",
      "bmi                  201\n",
      "smoking_status         0\n",
      "stroke                 0\n",
      "dtype: int64\n"
     ]
    },
    {
     "data": {
      "text/plain": [
       "0.9412915851272016"
      ]
     },
     "execution_count": 28,
     "metadata": {},
     "output_type": "execute_result"
    }
   ],
   "source": [
    "# filling Data Value by mean\n",
    "\n",
    "import pandas as pd\n",
    "import numpy as np\n",
    "import matplotlib.pyplot as plt\n",
    "import seaborn as sns\n",
    "\n",
    "#====================================\n",
    "from sklearn.linear_model import LogisticRegression\n",
    "from sklearn.model_selection import train_test_split\n",
    "from sklearn.metrics import confusion_matrix,classification_report,precision_score,recall_score,f1_score\n",
    "df=pd.read_csv(r'C:\\Users\\arjun\\Downloads\\healthcare-dataset-stroke-data.csv')\n",
    "print(df.isna().sum())\n",
    "\n",
    "\n",
    "df.drop(['id','gender','age','smoking_status','Residence_type','ever_married','work_type'],axis=1,inplace=True)\n",
    "df['bmi'].fillna(df['bmi'].mean(),inplace=True)\n",
    "X=df.drop(['heart_disease'],axis=1)\n",
    "y=df['heart_disease']\n",
    "X_train, X_test, y_train, y_test=train_test_split(X,y,test_size=0.2)\n",
    "model=LogisticRegression()\n",
    "model.fit(X_train,y_train)\n",
    "model.score(X_test,y_test)\n"
   ]
  },
  {
   "cell_type": "code",
   "execution_count": 29,
   "id": "4eeab3e9",
   "metadata": {},
   "outputs": [
    {
     "name": "stdout",
     "output_type": "stream",
     "text": [
      "id                     0\n",
      "gender                 0\n",
      "age                    0\n",
      "hypertension           0\n",
      "heart_disease          0\n",
      "ever_married           0\n",
      "work_type              0\n",
      "Residence_type         0\n",
      "avg_glucose_level      0\n",
      "bmi                  201\n",
      "smoking_status         0\n",
      "stroke                 0\n",
      "dtype: int64\n"
     ]
    },
    {
     "data": {
      "text/plain": [
       "0.9393346379647749"
      ]
     },
     "execution_count": 29,
     "metadata": {},
     "output_type": "execute_result"
    }
   ],
   "source": [
    "# fill Missing Value by median\n",
    "import pandas as pd\n",
    "import numpy as np\n",
    "import matplotlib.pyplot as plt\n",
    "import seaborn as sns\n",
    "\n",
    "#====================================\n",
    "from sklearn.linear_model import LogisticRegression\n",
    "from sklearn.model_selection import train_test_split\n",
    "from sklearn.metrics import confusion_matrix,classification_report,precision_score,recall_score,f1_score\n",
    "df=pd.read_csv(r'C:\\Users\\arjun\\Downloads\\healthcare-dataset-stroke-data.csv')\n",
    "print(df.isna().sum())\n",
    "\n",
    "\n",
    "df.drop(['id','gender','age','smoking_status','Residence_type','ever_married','work_type'],axis=1,inplace=True)\n",
    "df['bmi'].fillna(df['bmi'].median(),inplace=True)\n",
    "X=df.drop(['heart_disease'],axis=1)\n",
    "y=df['heart_disease']\n",
    "X_train, X_test, y_train, y_test=train_test_split(X,y,test_size=0.2)\n",
    "model=LogisticRegression()\n",
    "model.fit(X_train,y_train)\n",
    "model.score(X_test,y_test)\n"
   ]
  },
  {
   "cell_type": "code",
   "execution_count": null,
   "id": "513c1a54",
   "metadata": {},
   "outputs": [],
   "source": [
    "# fill with new columns\n",
    "import pandas as pd\n",
    "import numpy as np\n",
    "import matplotlib.pyplot as plt\n",
    "import seaborn as sns\n",
    "\n",
    "#====================================\n",
    "from sklearn.linear_model import LogisticRegression\n",
    "from sklearn.model_selection import train_test_split\n",
    "from sklearn.metrics import confusion_matrix,classification_report,precision_score,recall_score,f1_score\n",
    "df=pd.read_csv(r'C:\\Users\\arjun\\Downloads\\healthcare-dataset-stroke-data.csv')\n",
    "print(df.isna().sum())\n",
    "\n"
   ]
  },
  {
   "cell_type": "code",
   "execution_count": null,
   "id": "65f7d458",
   "metadata": {},
   "outputs": [],
   "source": []
  }
 ],
 "metadata": {
  "kernelspec": {
   "display_name": "Python 3 (ipykernel)",
   "language": "python",
   "name": "python3"
  },
  "language_info": {
   "codemirror_mode": {
    "name": "ipython",
    "version": 3
   },
   "file_extension": ".py",
   "mimetype": "text/x-python",
   "name": "python",
   "nbconvert_exporter": "python",
   "pygments_lexer": "ipython3",
   "version": "3.10.9"
  }
 },
 "nbformat": 4,
 "nbformat_minor": 5
}
