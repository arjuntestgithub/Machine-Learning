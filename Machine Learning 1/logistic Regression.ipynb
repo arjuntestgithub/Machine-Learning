{
 "cells": [
  {
   "cell_type": "code",
   "execution_count": 1,
   "id": "16c817d9",
   "metadata": {},
   "outputs": [],
   "source": [
    "import pandas as pd"
   ]
  },
  {
   "cell_type": "code",
   "execution_count": 2,
   "id": "9a5a4cea",
   "metadata": {},
   "outputs": [],
   "source": [
    "import numpy as np"
   ]
  },
  {
   "cell_type": "code",
   "execution_count": 3,
   "id": "6d552f41",
   "metadata": {},
   "outputs": [],
   "source": [
    "import seaborn as sns"
   ]
  },
  {
   "cell_type": "code",
   "execution_count": 4,
   "id": "dbc844fd",
   "metadata": {},
   "outputs": [],
   "source": [
    "import matplotlib.pyplot as plt"
   ]
  },
  {
   "cell_type": "code",
   "execution_count": 5,
   "id": "e99982cc",
   "metadata": {},
   "outputs": [],
   "source": [
    "from sklearn.model_selection import train_test_split"
   ]
  },
  {
   "cell_type": "code",
   "execution_count": 6,
   "id": "23c299eb",
   "metadata": {},
   "outputs": [],
   "source": [
    "from sklearn.linear_model import LogisticRegression"
   ]
  },
  {
   "cell_type": "code",
   "execution_count": 7,
   "id": "ae1b00a2",
   "metadata": {},
   "outputs": [
    {
     "data": {
      "text/plain": [
       "array([ 1.        ,  1.71014493,  2.42028986,  3.13043478,  3.84057971,\n",
       "        4.55072464,  5.26086957,  5.97101449,  6.68115942,  7.39130435,\n",
       "        8.10144928,  8.8115942 ,  9.52173913, 10.23188406, 10.94202899,\n",
       "       11.65217391, 12.36231884, 13.07246377, 13.7826087 , 14.49275362,\n",
       "       15.20289855, 15.91304348, 16.62318841, 17.33333333, 18.04347826,\n",
       "       18.75362319, 19.46376812, 20.17391304, 20.88405797, 21.5942029 ,\n",
       "       22.30434783, 23.01449275, 23.72463768, 24.43478261, 25.14492754,\n",
       "       25.85507246, 26.56521739, 27.27536232, 27.98550725, 28.69565217,\n",
       "       29.4057971 , 30.11594203, 30.82608696, 31.53623188, 32.24637681,\n",
       "       32.95652174, 33.66666667, 34.37681159, 35.08695652, 35.79710145,\n",
       "       36.50724638, 37.2173913 , 37.92753623, 38.63768116, 39.34782609,\n",
       "       40.05797101, 40.76811594, 41.47826087, 42.1884058 , 42.89855072,\n",
       "       43.60869565, 44.31884058, 45.02898551, 45.73913043, 46.44927536,\n",
       "       47.15942029, 47.86956522, 48.57971014, 49.28985507, 50.        ])"
      ]
     },
     "execution_count": 7,
     "metadata": {},
     "output_type": "execute_result"
    }
   ],
   "source": [
    "np.linspace(1,50,70)"
   ]
  },
  {
   "cell_type": "code",
   "execution_count": 8,
   "id": "66feca6d",
   "metadata": {},
   "outputs": [],
   "source": [
    "import math"
   ]
  },
  {
   "cell_type": "code",
   "execution_count": 9,
   "id": "5e2d92a6",
   "metadata": {},
   "outputs": [
    {
     "data": {
      "text/plain": [
       "2.718281828459045"
      ]
     },
     "execution_count": 9,
     "metadata": {},
     "output_type": "execute_result"
    }
   ],
   "source": [
    "math.e"
   ]
  },
  {
   "cell_type": "code",
   "execution_count": 10,
   "id": "ccfaece2",
   "metadata": {},
   "outputs": [],
   "source": [
    "# sigmoid Function"
   ]
  },
  {
   "cell_type": "code",
   "execution_count": 12,
   "id": "bea77afc",
   "metadata": {},
   "outputs": [
    {
     "data": {
      "text/plain": [
       "8.389056098930649"
      ]
     },
     "execution_count": 12,
     "metadata": {},
     "output_type": "execute_result"
    }
   ],
   "source": [
    "1/1+(math.e**2)"
   ]
  },
  {
   "cell_type": "code",
   "execution_count": null,
   "id": "7a19a293",
   "metadata": {},
   "outputs": [],
   "source": []
  }
 ],
 "metadata": {
  "kernelspec": {
   "display_name": "Python 3 (ipykernel)",
   "language": "python",
   "name": "python3"
  },
  "language_info": {
   "codemirror_mode": {
    "name": "ipython",
    "version": 3
   },
   "file_extension": ".py",
   "mimetype": "text/x-python",
   "name": "python",
   "nbconvert_exporter": "python",
   "pygments_lexer": "ipython3",
   "version": "3.10.9"
  }
 },
 "nbformat": 4,
 "nbformat_minor": 5
}
